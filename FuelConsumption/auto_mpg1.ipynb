{
 "cells": [
  {
   "cell_type": "markdown",
   "source": [
    "Data set link : http://archive.ics.uci.edu/ml/datasets/Auto+MPG"
   ],
   "metadata": {}
  },
  {
   "cell_type": "code",
   "execution_count": 10,
   "source": [
    "file = r'C:\\Users\\sri\\Desktop\\auto_mpg\\auto-mpg.data'"
   ],
   "outputs": [],
   "metadata": {}
  },
  {
   "cell_type": "code",
   "execution_count": 11,
   "source": [
    "import pandas as pd\r\n",
    "import numpy as np\r\n",
    "import matplotlib.pyplot as plt\r\n",
    "import seaborn as sns\r\n"
   ],
   "outputs": [],
   "metadata": {}
  },
  {
   "cell_type": "code",
   "execution_count": 13,
   "source": [
    "cols = ['MPG','Cylinders','Displacement','Horsepower','Weight',\r\n",
    "                'Acceleration', 'Model Year', 'Origin']\r\n",
    "df = pd.read_csv(file,names=cols, na_values='?',comment='\\t',\r\n",
    "                   sep=\" \",\r\n",
    "                   skipinitialspace=True)\r\n",
    "\r\n",
    "data = df.copy()"
   ],
   "outputs": [],
   "metadata": {}
  },
  {
   "cell_type": "code",
   "execution_count": 14,
   "source": [
    "data.sample(20)"
   ],
   "outputs": [
    {
     "output_type": "execute_result",
     "data": {
      "text/html": [
       "<div>\n",
       "<style scoped>\n",
       "    .dataframe tbody tr th:only-of-type {\n",
       "        vertical-align: middle;\n",
       "    }\n",
       "\n",
       "    .dataframe tbody tr th {\n",
       "        vertical-align: top;\n",
       "    }\n",
       "\n",
       "    .dataframe thead th {\n",
       "        text-align: right;\n",
       "    }\n",
       "</style>\n",
       "<table border=\"1\" class=\"dataframe\">\n",
       "  <thead>\n",
       "    <tr style=\"text-align: right;\">\n",
       "      <th></th>\n",
       "      <th>MPG</th>\n",
       "      <th>Cylinders</th>\n",
       "      <th>Displacement</th>\n",
       "      <th>Horsepower</th>\n",
       "      <th>Weight</th>\n",
       "      <th>Acceleration</th>\n",
       "      <th>Model Year</th>\n",
       "      <th>Origin</th>\n",
       "    </tr>\n",
       "  </thead>\n",
       "  <tbody>\n",
       "    <tr>\n",
       "      <th>246</th>\n",
       "      <td>32.8</td>\n",
       "      <td>4</td>\n",
       "      <td>78.0</td>\n",
       "      <td>52.0</td>\n",
       "      <td>1985.0</td>\n",
       "      <td>19.4</td>\n",
       "      <td>78</td>\n",
       "      <td>3</td>\n",
       "    </tr>\n",
       "    <tr>\n",
       "      <th>176</th>\n",
       "      <td>19.0</td>\n",
       "      <td>6</td>\n",
       "      <td>232.0</td>\n",
       "      <td>90.0</td>\n",
       "      <td>3211.0</td>\n",
       "      <td>17.0</td>\n",
       "      <td>75</td>\n",
       "      <td>1</td>\n",
       "    </tr>\n",
       "    <tr>\n",
       "      <th>284</th>\n",
       "      <td>20.6</td>\n",
       "      <td>6</td>\n",
       "      <td>225.0</td>\n",
       "      <td>110.0</td>\n",
       "      <td>3360.0</td>\n",
       "      <td>16.6</td>\n",
       "      <td>79</td>\n",
       "      <td>1</td>\n",
       "    </tr>\n",
       "    <tr>\n",
       "      <th>201</th>\n",
       "      <td>18.5</td>\n",
       "      <td>6</td>\n",
       "      <td>250.0</td>\n",
       "      <td>110.0</td>\n",
       "      <td>3645.0</td>\n",
       "      <td>16.2</td>\n",
       "      <td>76</td>\n",
       "      <td>1</td>\n",
       "    </tr>\n",
       "    <tr>\n",
       "      <th>128</th>\n",
       "      <td>15.0</td>\n",
       "      <td>6</td>\n",
       "      <td>250.0</td>\n",
       "      <td>100.0</td>\n",
       "      <td>3336.0</td>\n",
       "      <td>17.0</td>\n",
       "      <td>74</td>\n",
       "      <td>1</td>\n",
       "    </tr>\n",
       "    <tr>\n",
       "      <th>110</th>\n",
       "      <td>22.0</td>\n",
       "      <td>4</td>\n",
       "      <td>108.0</td>\n",
       "      <td>94.0</td>\n",
       "      <td>2379.0</td>\n",
       "      <td>16.5</td>\n",
       "      <td>73</td>\n",
       "      <td>3</td>\n",
       "    </tr>\n",
       "    <tr>\n",
       "      <th>143</th>\n",
       "      <td>26.0</td>\n",
       "      <td>4</td>\n",
       "      <td>97.0</td>\n",
       "      <td>78.0</td>\n",
       "      <td>2300.0</td>\n",
       "      <td>14.5</td>\n",
       "      <td>74</td>\n",
       "      <td>2</td>\n",
       "    </tr>\n",
       "    <tr>\n",
       "      <th>289</th>\n",
       "      <td>16.9</td>\n",
       "      <td>8</td>\n",
       "      <td>350.0</td>\n",
       "      <td>155.0</td>\n",
       "      <td>4360.0</td>\n",
       "      <td>14.9</td>\n",
       "      <td>79</td>\n",
       "      <td>1</td>\n",
       "    </tr>\n",
       "    <tr>\n",
       "      <th>279</th>\n",
       "      <td>29.5</td>\n",
       "      <td>4</td>\n",
       "      <td>98.0</td>\n",
       "      <td>68.0</td>\n",
       "      <td>2135.0</td>\n",
       "      <td>16.6</td>\n",
       "      <td>78</td>\n",
       "      <td>3</td>\n",
       "    </tr>\n",
       "    <tr>\n",
       "      <th>254</th>\n",
       "      <td>20.2</td>\n",
       "      <td>6</td>\n",
       "      <td>200.0</td>\n",
       "      <td>85.0</td>\n",
       "      <td>2965.0</td>\n",
       "      <td>15.8</td>\n",
       "      <td>78</td>\n",
       "      <td>1</td>\n",
       "    </tr>\n",
       "    <tr>\n",
       "      <th>371</th>\n",
       "      <td>29.0</td>\n",
       "      <td>4</td>\n",
       "      <td>135.0</td>\n",
       "      <td>84.0</td>\n",
       "      <td>2525.0</td>\n",
       "      <td>16.0</td>\n",
       "      <td>82</td>\n",
       "      <td>1</td>\n",
       "    </tr>\n",
       "    <tr>\n",
       "      <th>107</th>\n",
       "      <td>18.0</td>\n",
       "      <td>6</td>\n",
       "      <td>232.0</td>\n",
       "      <td>100.0</td>\n",
       "      <td>2789.0</td>\n",
       "      <td>15.0</td>\n",
       "      <td>73</td>\n",
       "      <td>1</td>\n",
       "    </tr>\n",
       "    <tr>\n",
       "      <th>397</th>\n",
       "      <td>31.0</td>\n",
       "      <td>4</td>\n",
       "      <td>119.0</td>\n",
       "      <td>82.0</td>\n",
       "      <td>2720.0</td>\n",
       "      <td>19.4</td>\n",
       "      <td>82</td>\n",
       "      <td>1</td>\n",
       "    </tr>\n",
       "    <tr>\n",
       "      <th>293</th>\n",
       "      <td>31.9</td>\n",
       "      <td>4</td>\n",
       "      <td>89.0</td>\n",
       "      <td>71.0</td>\n",
       "      <td>1925.0</td>\n",
       "      <td>14.0</td>\n",
       "      <td>79</td>\n",
       "      <td>2</td>\n",
       "    </tr>\n",
       "    <tr>\n",
       "      <th>39</th>\n",
       "      <td>14.0</td>\n",
       "      <td>8</td>\n",
       "      <td>400.0</td>\n",
       "      <td>175.0</td>\n",
       "      <td>4464.0</td>\n",
       "      <td>11.5</td>\n",
       "      <td>71</td>\n",
       "      <td>1</td>\n",
       "    </tr>\n",
       "    <tr>\n",
       "      <th>291</th>\n",
       "      <td>19.2</td>\n",
       "      <td>8</td>\n",
       "      <td>267.0</td>\n",
       "      <td>125.0</td>\n",
       "      <td>3605.0</td>\n",
       "      <td>15.0</td>\n",
       "      <td>79</td>\n",
       "      <td>1</td>\n",
       "    </tr>\n",
       "    <tr>\n",
       "      <th>386</th>\n",
       "      <td>25.0</td>\n",
       "      <td>6</td>\n",
       "      <td>181.0</td>\n",
       "      <td>110.0</td>\n",
       "      <td>2945.0</td>\n",
       "      <td>16.4</td>\n",
       "      <td>82</td>\n",
       "      <td>1</td>\n",
       "    </tr>\n",
       "    <tr>\n",
       "      <th>338</th>\n",
       "      <td>27.2</td>\n",
       "      <td>4</td>\n",
       "      <td>135.0</td>\n",
       "      <td>84.0</td>\n",
       "      <td>2490.0</td>\n",
       "      <td>15.7</td>\n",
       "      <td>81</td>\n",
       "      <td>1</td>\n",
       "    </tr>\n",
       "    <tr>\n",
       "      <th>56</th>\n",
       "      <td>26.0</td>\n",
       "      <td>4</td>\n",
       "      <td>91.0</td>\n",
       "      <td>70.0</td>\n",
       "      <td>1955.0</td>\n",
       "      <td>20.5</td>\n",
       "      <td>71</td>\n",
       "      <td>1</td>\n",
       "    </tr>\n",
       "    <tr>\n",
       "      <th>95</th>\n",
       "      <td>12.0</td>\n",
       "      <td>8</td>\n",
       "      <td>455.0</td>\n",
       "      <td>225.0</td>\n",
       "      <td>4951.0</td>\n",
       "      <td>11.0</td>\n",
       "      <td>73</td>\n",
       "      <td>1</td>\n",
       "    </tr>\n",
       "  </tbody>\n",
       "</table>\n",
       "</div>"
      ],
      "text/plain": [
       "      MPG  Cylinders  Displacement  Horsepower  Weight  Acceleration  \\\n",
       "246  32.8          4          78.0        52.0  1985.0          19.4   \n",
       "176  19.0          6         232.0        90.0  3211.0          17.0   \n",
       "284  20.6          6         225.0       110.0  3360.0          16.6   \n",
       "201  18.5          6         250.0       110.0  3645.0          16.2   \n",
       "128  15.0          6         250.0       100.0  3336.0          17.0   \n",
       "110  22.0          4         108.0        94.0  2379.0          16.5   \n",
       "143  26.0          4          97.0        78.0  2300.0          14.5   \n",
       "289  16.9          8         350.0       155.0  4360.0          14.9   \n",
       "279  29.5          4          98.0        68.0  2135.0          16.6   \n",
       "254  20.2          6         200.0        85.0  2965.0          15.8   \n",
       "371  29.0          4         135.0        84.0  2525.0          16.0   \n",
       "107  18.0          6         232.0       100.0  2789.0          15.0   \n",
       "397  31.0          4         119.0        82.0  2720.0          19.4   \n",
       "293  31.9          4          89.0        71.0  1925.0          14.0   \n",
       "39   14.0          8         400.0       175.0  4464.0          11.5   \n",
       "291  19.2          8         267.0       125.0  3605.0          15.0   \n",
       "386  25.0          6         181.0       110.0  2945.0          16.4   \n",
       "338  27.2          4         135.0        84.0  2490.0          15.7   \n",
       "56   26.0          4          91.0        70.0  1955.0          20.5   \n",
       "95   12.0          8         455.0       225.0  4951.0          11.0   \n",
       "\n",
       "     Model Year  Origin  \n",
       "246          78       3  \n",
       "176          75       1  \n",
       "284          79       1  \n",
       "201          76       1  \n",
       "128          74       1  \n",
       "110          73       3  \n",
       "143          74       2  \n",
       "289          79       1  \n",
       "279          78       3  \n",
       "254          78       1  \n",
       "371          82       1  \n",
       "107          73       1  \n",
       "397          82       1  \n",
       "293          79       2  \n",
       "39           71       1  \n",
       "291          79       1  \n",
       "386          82       1  \n",
       "338          81       1  \n",
       "56           71       1  \n",
       "95           73       1  "
      ]
     },
     "metadata": {},
     "execution_count": 14
    }
   ],
   "metadata": {}
  },
  {
   "cell_type": "markdown",
   "source": [
    "## Problem Statement:\r\n",
    "The data contains MPG variable which is continuous data and tells us about the efficiency of fuel consumption of a vehicle in 70s and 80s.\r\n",
    "\r\n",
    "Our aim here is to predict the MPG value for a vehicle given we have other attributes of that vehicle."
   ],
   "metadata": {}
  },
  {
   "cell_type": "code",
   "execution_count": 15,
   "source": [
    "data.info()"
   ],
   "outputs": [
    {
     "output_type": "stream",
     "name": "stdout",
     "text": [
      "<class 'pandas.core.frame.DataFrame'>\n",
      "RangeIndex: 398 entries, 0 to 397\n",
      "Data columns (total 8 columns):\n",
      " #   Column        Non-Null Count  Dtype  \n",
      "---  ------        --------------  -----  \n",
      " 0   MPG           398 non-null    float64\n",
      " 1   Cylinders     398 non-null    int64  \n",
      " 2   Displacement  398 non-null    float64\n",
      " 3   Horsepower    392 non-null    float64\n",
      " 4   Weight        398 non-null    float64\n",
      " 5   Acceleration  398 non-null    float64\n",
      " 6   Model Year    398 non-null    int64  \n",
      " 7   Origin        398 non-null    int64  \n",
      "dtypes: float64(5), int64(3)\n",
      "memory usage: 24.9 KB\n"
     ]
    }
   ],
   "metadata": {}
  },
  {
   "cell_type": "code",
   "execution_count": 16,
   "source": [
    "data.shape"
   ],
   "outputs": [
    {
     "output_type": "execute_result",
     "data": {
      "text/plain": [
       "(398, 8)"
      ]
     },
     "metadata": {},
     "execution_count": 16
    }
   ],
   "metadata": {}
  },
  {
   "cell_type": "code",
   "execution_count": 17,
   "source": [
    "data.isnull().sum()"
   ],
   "outputs": [
    {
     "output_type": "execute_result",
     "data": {
      "text/plain": [
       "MPG             0\n",
       "Cylinders       0\n",
       "Displacement    0\n",
       "Horsepower      6\n",
       "Weight          0\n",
       "Acceleration    0\n",
       "Model Year      0\n",
       "Origin          0\n",
       "dtype: int64"
      ]
     },
     "metadata": {},
     "execution_count": 17
    }
   ],
   "metadata": {}
  },
  {
   "cell_type": "code",
   "execution_count": 18,
   "source": [
    "data.describe()"
   ],
   "outputs": [
    {
     "output_type": "execute_result",
     "data": {
      "text/html": [
       "<div>\n",
       "<style scoped>\n",
       "    .dataframe tbody tr th:only-of-type {\n",
       "        vertical-align: middle;\n",
       "    }\n",
       "\n",
       "    .dataframe tbody tr th {\n",
       "        vertical-align: top;\n",
       "    }\n",
       "\n",
       "    .dataframe thead th {\n",
       "        text-align: right;\n",
       "    }\n",
       "</style>\n",
       "<table border=\"1\" class=\"dataframe\">\n",
       "  <thead>\n",
       "    <tr style=\"text-align: right;\">\n",
       "      <th></th>\n",
       "      <th>MPG</th>\n",
       "      <th>Cylinders</th>\n",
       "      <th>Displacement</th>\n",
       "      <th>Horsepower</th>\n",
       "      <th>Weight</th>\n",
       "      <th>Acceleration</th>\n",
       "      <th>Model Year</th>\n",
       "      <th>Origin</th>\n",
       "    </tr>\n",
       "  </thead>\n",
       "  <tbody>\n",
       "    <tr>\n",
       "      <th>count</th>\n",
       "      <td>398.000000</td>\n",
       "      <td>398.000000</td>\n",
       "      <td>398.000000</td>\n",
       "      <td>392.000000</td>\n",
       "      <td>398.000000</td>\n",
       "      <td>398.000000</td>\n",
       "      <td>398.000000</td>\n",
       "      <td>398.000000</td>\n",
       "    </tr>\n",
       "    <tr>\n",
       "      <th>mean</th>\n",
       "      <td>23.514573</td>\n",
       "      <td>5.454774</td>\n",
       "      <td>193.425879</td>\n",
       "      <td>104.469388</td>\n",
       "      <td>2970.424623</td>\n",
       "      <td>15.568090</td>\n",
       "      <td>76.010050</td>\n",
       "      <td>1.572864</td>\n",
       "    </tr>\n",
       "    <tr>\n",
       "      <th>std</th>\n",
       "      <td>7.815984</td>\n",
       "      <td>1.701004</td>\n",
       "      <td>104.269838</td>\n",
       "      <td>38.491160</td>\n",
       "      <td>846.841774</td>\n",
       "      <td>2.757689</td>\n",
       "      <td>3.697627</td>\n",
       "      <td>0.802055</td>\n",
       "    </tr>\n",
       "    <tr>\n",
       "      <th>min</th>\n",
       "      <td>9.000000</td>\n",
       "      <td>3.000000</td>\n",
       "      <td>68.000000</td>\n",
       "      <td>46.000000</td>\n",
       "      <td>1613.000000</td>\n",
       "      <td>8.000000</td>\n",
       "      <td>70.000000</td>\n",
       "      <td>1.000000</td>\n",
       "    </tr>\n",
       "    <tr>\n",
       "      <th>25%</th>\n",
       "      <td>17.500000</td>\n",
       "      <td>4.000000</td>\n",
       "      <td>104.250000</td>\n",
       "      <td>75.000000</td>\n",
       "      <td>2223.750000</td>\n",
       "      <td>13.825000</td>\n",
       "      <td>73.000000</td>\n",
       "      <td>1.000000</td>\n",
       "    </tr>\n",
       "    <tr>\n",
       "      <th>50%</th>\n",
       "      <td>23.000000</td>\n",
       "      <td>4.000000</td>\n",
       "      <td>148.500000</td>\n",
       "      <td>93.500000</td>\n",
       "      <td>2803.500000</td>\n",
       "      <td>15.500000</td>\n",
       "      <td>76.000000</td>\n",
       "      <td>1.000000</td>\n",
       "    </tr>\n",
       "    <tr>\n",
       "      <th>75%</th>\n",
       "      <td>29.000000</td>\n",
       "      <td>8.000000</td>\n",
       "      <td>262.000000</td>\n",
       "      <td>126.000000</td>\n",
       "      <td>3608.000000</td>\n",
       "      <td>17.175000</td>\n",
       "      <td>79.000000</td>\n",
       "      <td>2.000000</td>\n",
       "    </tr>\n",
       "    <tr>\n",
       "      <th>max</th>\n",
       "      <td>46.600000</td>\n",
       "      <td>8.000000</td>\n",
       "      <td>455.000000</td>\n",
       "      <td>230.000000</td>\n",
       "      <td>5140.000000</td>\n",
       "      <td>24.800000</td>\n",
       "      <td>82.000000</td>\n",
       "      <td>3.000000</td>\n",
       "    </tr>\n",
       "  </tbody>\n",
       "</table>\n",
       "</div>"
      ],
      "text/plain": [
       "              MPG   Cylinders  Displacement  Horsepower       Weight  \\\n",
       "count  398.000000  398.000000    398.000000  392.000000   398.000000   \n",
       "mean    23.514573    5.454774    193.425879  104.469388  2970.424623   \n",
       "std      7.815984    1.701004    104.269838   38.491160   846.841774   \n",
       "min      9.000000    3.000000     68.000000   46.000000  1613.000000   \n",
       "25%     17.500000    4.000000    104.250000   75.000000  2223.750000   \n",
       "50%     23.000000    4.000000    148.500000   93.500000  2803.500000   \n",
       "75%     29.000000    8.000000    262.000000  126.000000  3608.000000   \n",
       "max     46.600000    8.000000    455.000000  230.000000  5140.000000   \n",
       "\n",
       "       Acceleration  Model Year      Origin  \n",
       "count    398.000000  398.000000  398.000000  \n",
       "mean      15.568090   76.010050    1.572864  \n",
       "std        2.757689    3.697627    0.802055  \n",
       "min        8.000000   70.000000    1.000000  \n",
       "25%       13.825000   73.000000    1.000000  \n",
       "50%       15.500000   76.000000    1.000000  \n",
       "75%       17.175000   79.000000    2.000000  \n",
       "max       24.800000   82.000000    3.000000  "
      ]
     },
     "metadata": {},
     "execution_count": 18
    }
   ],
   "metadata": {}
  },
  {
   "cell_type": "code",
   "execution_count": 19,
   "source": [
    "sns.boxplot(x=data['Horsepower'])"
   ],
   "outputs": [
    {
     "output_type": "execute_result",
     "data": {
      "text/plain": [
       "<AxesSubplot:xlabel='Horsepower'>"
      ]
     },
     "metadata": {},
     "execution_count": 19
    },
    {
     "output_type": "display_data",
     "data": {
      "image/png": "[encoded data removed]",
      "text/plain": [
       "<Figure size 432x288 with 1 Axes>"
      ]
     },
     "metadata": {
      "needs_background": "light"
     }
    }
   ],
   "metadata": {}
  },
  {
   "cell_type": "code",
   "execution_count": 20,
   "source": [
    "#Inputing the missing values in the Horsepower column with median\r\n",
    "\r\n",
    "median = df.Horsepower.median()\r\n",
    "data.Horsepower = data.Horsepower.fillna(median)"
   ],
   "outputs": [],
   "metadata": {}
  },
  {
   "cell_type": "code",
   "execution_count": 21,
   "source": [
    "#we can check now there are no missing values\r\n",
    "data.Horsepower.isnull().sum()"
   ],
   "outputs": [
    {
     "output_type": "execute_result",
     "data": {
      "text/plain": [
       "0"
      ]
     },
     "metadata": {},
     "execution_count": 21
    }
   ],
   "metadata": {}
  },
  {
   "cell_type": "code",
   "execution_count": 22,
   "source": [
    "# Category Distribution\r\n",
    "data['Cylinders'].value_counts()/len(data)"
   ],
   "outputs": [
    {
     "output_type": "execute_result",
     "data": {
      "text/plain": [
       "4    0.512563\n",
       "8    0.258794\n",
       "6    0.211055\n",
       "3    0.010050\n",
       "5    0.007538\n",
       "Name: Cylinders, dtype: float64"
      ]
     },
     "metadata": {},
     "execution_count": 22
    }
   ],
   "metadata": {}
  },
  {
   "cell_type": "code",
   "execution_count": 23,
   "source": [
    "data.Origin.value_counts()/len(data)"
   ],
   "outputs": [
    {
     "output_type": "execute_result",
     "data": {
      "text/plain": [
       "1    0.625628\n",
       "3    0.198492\n",
       "2    0.175879\n",
       "Name: Origin, dtype: float64"
      ]
     },
     "metadata": {},
     "execution_count": 23
    }
   ],
   "metadata": {}
  },
  {
   "cell_type": "code",
   "execution_count": 24,
   "source": [
    "#pairplot to get an intuition of potential correlation\r\n",
    "sns.pairplot(data[['MPG','Cylinders','Displacement','Horsepower','Weight']],diag_kind=\"kde\")"
   ],
   "outputs": [
    {
     "output_type": "execute_result",
     "data": {
      "text/plain": [
       "<seaborn.axisgrid.PairGrid at 0x3325400>"
      ]
     },
     "metadata": {},
     "execution_count": 24
    },
    {
     "output_type": "display_data",
     "data": {
      "image/png": "[encoded data removed]",
      "text/plain": [
       "<Figure size 900x900 with 30 Axes>"
      ]
     },
     "metadata": {
      "needs_background": "light"
     }
    }
   ],
   "metadata": {}
  },
  {
   "cell_type": "markdown",
   "source": [
    "# Data Preperation"
   ],
   "metadata": {}
  },
  {
   "cell_type": "code",
   "execution_count": 25,
   "source": [
    "from sklearn.model_selection import StratifiedShuffleSplit\r\n",
    "import warnings\r\n",
    "warnings.filterwarnings('ignore')"
   ],
   "outputs": [],
   "metadata": {}
  },
  {
   "cell_type": "code",
   "execution_count": 26,
   "source": [
    "split = StratifiedShuffleSplit(n_splits=1, test_size=0.2, random_state=42)\r\n",
    "for train_index, test_index in split.split(data, data[\"Cylinders\"]):\r\n",
    "    strat_train_set = data.loc[train_index]\r\n",
    "    strat_test_set = data.loc[test_index]"
   ],
   "outputs": [],
   "metadata": {}
  },
  {
   "cell_type": "markdown",
   "source": [
    "# Segregating Target and Feature Variables"
   ],
   "metadata": {}
  },
  {
   "cell_type": "code",
   "execution_count": 27,
   "source": [
    "data = strat_train_set.drop('MPG',axis=1)\r\n",
    "data_labels = strat_train_set['MPG'].copy()"
   ],
   "outputs": [],
   "metadata": {}
  },
  {
   "cell_type": "markdown",
   "source": [
    "## Preprocessing the Origin Column"
   ],
   "metadata": {}
  },
  {
   "cell_type": "code",
   "execution_count": 28,
   "source": [
    "def preprocess_origin_cols(df):\r\n",
    "    df['Origin'] = df['Origin'].map({1:'India', 2: 'USA',3:'Germany'})\r\n",
    "    return df\r\n",
    "\r\n",
    "data_tr = preprocess_origin_cols(data)"
   ],
   "outputs": [],
   "metadata": {}
  },
  {
   "cell_type": "code",
   "execution_count": 29,
   "source": [
    "data_tr.head()"
   ],
   "outputs": [
    {
     "output_type": "execute_result",
     "data": {
      "text/html": [
       "<div>\n",
       "<style scoped>\n",
       "    .dataframe tbody tr th:only-of-type {\n",
       "        vertical-align: middle;\n",
       "    }\n",
       "\n",
       "    .dataframe tbody tr th {\n",
       "        vertical-align: top;\n",
       "    }\n",
       "\n",
       "    .dataframe thead th {\n",
       "        text-align: right;\n",
       "    }\n",
       "</style>\n",
       "<table border=\"1\" class=\"dataframe\">\n",
       "  <thead>\n",
       "    <tr style=\"text-align: right;\">\n",
       "      <th></th>\n",
       "      <th>Cylinders</th>\n",
       "      <th>Displacement</th>\n",
       "      <th>Horsepower</th>\n",
       "      <th>Weight</th>\n",
       "      <th>Acceleration</th>\n",
       "      <th>Model Year</th>\n",
       "      <th>Origin</th>\n",
       "    </tr>\n",
       "  </thead>\n",
       "  <tbody>\n",
       "    <tr>\n",
       "      <th>145</th>\n",
       "      <td>4</td>\n",
       "      <td>83.0</td>\n",
       "      <td>61.0</td>\n",
       "      <td>2003.0</td>\n",
       "      <td>19.0</td>\n",
       "      <td>74</td>\n",
       "      <td>Germany</td>\n",
       "    </tr>\n",
       "    <tr>\n",
       "      <th>151</th>\n",
       "      <td>4</td>\n",
       "      <td>79.0</td>\n",
       "      <td>67.0</td>\n",
       "      <td>2000.0</td>\n",
       "      <td>16.0</td>\n",
       "      <td>74</td>\n",
       "      <td>USA</td>\n",
       "    </tr>\n",
       "    <tr>\n",
       "      <th>388</th>\n",
       "      <td>4</td>\n",
       "      <td>156.0</td>\n",
       "      <td>92.0</td>\n",
       "      <td>2585.0</td>\n",
       "      <td>14.5</td>\n",
       "      <td>82</td>\n",
       "      <td>India</td>\n",
       "    </tr>\n",
       "    <tr>\n",
       "      <th>48</th>\n",
       "      <td>6</td>\n",
       "      <td>250.0</td>\n",
       "      <td>88.0</td>\n",
       "      <td>3139.0</td>\n",
       "      <td>14.5</td>\n",
       "      <td>71</td>\n",
       "      <td>India</td>\n",
       "    </tr>\n",
       "    <tr>\n",
       "      <th>114</th>\n",
       "      <td>4</td>\n",
       "      <td>98.0</td>\n",
       "      <td>90.0</td>\n",
       "      <td>2265.0</td>\n",
       "      <td>15.5</td>\n",
       "      <td>73</td>\n",
       "      <td>USA</td>\n",
       "    </tr>\n",
       "  </tbody>\n",
       "</table>\n",
       "</div>"
      ],
      "text/plain": [
       "     Cylinders  Displacement  Horsepower  Weight  Acceleration  Model Year  \\\n",
       "145          4          83.0        61.0  2003.0          19.0          74   \n",
       "151          4          79.0        67.0  2000.0          16.0          74   \n",
       "388          4         156.0        92.0  2585.0          14.5          82   \n",
       "48           6         250.0        88.0  3139.0          14.5          71   \n",
       "114          4          98.0        90.0  2265.0          15.5          73   \n",
       "\n",
       "      Origin  \n",
       "145  Germany  \n",
       "151      USA  \n",
       "388    India  \n",
       "48     India  \n",
       "114      USA  "
      ]
     },
     "metadata": {},
     "execution_count": 29
    }
   ],
   "metadata": {}
  },
  {
   "cell_type": "code",
   "execution_count": 30,
   "source": [
    "data_tr.info()"
   ],
   "outputs": [
    {
     "output_type": "stream",
     "name": "stdout",
     "text": [
      "<class 'pandas.core.frame.DataFrame'>\n",
      "Int64Index: 318 entries, 145 to 362\n",
      "Data columns (total 7 columns):\n",
      " #   Column        Non-Null Count  Dtype  \n",
      "---  ------        --------------  -----  \n",
      " 0   Cylinders     318 non-null    int64  \n",
      " 1   Displacement  318 non-null    float64\n",
      " 2   Horsepower    318 non-null    float64\n",
      " 3   Weight        318 non-null    float64\n",
      " 4   Acceleration  318 non-null    float64\n",
      " 5   Model Year    318 non-null    int64  \n",
      " 6   Origin        318 non-null    object \n",
      "dtypes: float64(4), int64(2), object(1)\n",
      "memory usage: 18.6+ KB\n"
     ]
    }
   ],
   "metadata": {}
  },
  {
   "cell_type": "code",
   "execution_count": 31,
   "source": [
    "data_tr.isnull().sum()"
   ],
   "outputs": [
    {
     "output_type": "execute_result",
     "data": {
      "text/plain": [
       "Cylinders       0\n",
       "Displacement    0\n",
       "Horsepower      0\n",
       "Weight          0\n",
       "Acceleration    0\n",
       "Model Year      0\n",
       "Origin          0\n",
       "dtype: int64"
      ]
     },
     "metadata": {},
     "execution_count": 31
    }
   ],
   "metadata": {}
  },
  {
   "cell_type": "code",
   "execution_count": 32,
   "source": [
    "# isolating the origin column\r\n",
    "data_cat = data_tr[['Origin']]\r\n",
    "data_cat.head()"
   ],
   "outputs": [
    {
     "output_type": "execute_result",
     "data": {
      "text/html": [
       "<div>\n",
       "<style scoped>\n",
       "    .dataframe tbody tr th:only-of-type {\n",
       "        vertical-align: middle;\n",
       "    }\n",
       "\n",
       "    .dataframe tbody tr th {\n",
       "        vertical-align: top;\n",
       "    }\n",
       "\n",
       "    .dataframe thead th {\n",
       "        text-align: right;\n",
       "    }\n",
       "</style>\n",
       "<table border=\"1\" class=\"dataframe\">\n",
       "  <thead>\n",
       "    <tr style=\"text-align: right;\">\n",
       "      <th></th>\n",
       "      <th>Origin</th>\n",
       "    </tr>\n",
       "  </thead>\n",
       "  <tbody>\n",
       "    <tr>\n",
       "      <th>145</th>\n",
       "      <td>Germany</td>\n",
       "    </tr>\n",
       "    <tr>\n",
       "      <th>151</th>\n",
       "      <td>USA</td>\n",
       "    </tr>\n",
       "    <tr>\n",
       "      <th>388</th>\n",
       "      <td>India</td>\n",
       "    </tr>\n",
       "    <tr>\n",
       "      <th>48</th>\n",
       "      <td>India</td>\n",
       "    </tr>\n",
       "    <tr>\n",
       "      <th>114</th>\n",
       "      <td>USA</td>\n",
       "    </tr>\n",
       "  </tbody>\n",
       "</table>\n",
       "</div>"
      ],
      "text/plain": [
       "      Origin\n",
       "145  Germany\n",
       "151      USA\n",
       "388    India\n",
       "48     India\n",
       "114      USA"
      ]
     },
     "metadata": {},
     "execution_count": 32
    }
   ],
   "metadata": {}
  },
  {
   "cell_type": "code",
   "execution_count": 33,
   "source": [
    "from sklearn.preprocessing import OneHotEncoder\r\n",
    "\r\n",
    "cat_encoder = OneHotEncoder()\r\n",
    "data_cat_1hot = cat_encoder.fit_transform(data_cat)\r\n",
    "data_cat_1hot #Returns a sparse matrix"
   ],
   "outputs": [
    {
     "output_type": "execute_result",
     "data": {
      "text/plain": [
       "<318x3 sparse matrix of type '<class 'numpy.float64'>'\n",
       "\twith 318 stored elements in Compressed Sparse Row format>"
      ]
     },
     "metadata": {},
     "execution_count": 33
    }
   ],
   "metadata": {}
  },
  {
   "cell_type": "code",
   "execution_count": 34,
   "source": [
    "data_cat_1hot.toarray()[:5]"
   ],
   "outputs": [
    {
     "output_type": "execute_result",
     "data": {
      "text/plain": [
       "array([[1., 0., 0.],\n",
       "       [0., 0., 1.],\n",
       "       [0., 1., 0.],\n",
       "       [0., 1., 0.],\n",
       "       [0., 0., 1.]])"
      ]
     },
     "metadata": {},
     "execution_count": 34
    }
   ],
   "metadata": {}
  },
  {
   "cell_type": "code",
   "execution_count": 35,
   "source": [
    "cat_encoder.categories_"
   ],
   "outputs": [
    {
     "output_type": "execute_result",
     "data": {
      "text/plain": [
       "[array(['Germany', 'India', 'USA'], dtype=object)]"
      ]
     },
     "metadata": {},
     "execution_count": 35
    }
   ],
   "metadata": {}
  },
  {
   "cell_type": "markdown",
   "source": [
    "# Handling Missing Values using SimpleImputer"
   ],
   "metadata": {}
  },
  {
   "cell_type": "code",
   "execution_count": 38,
   "source": [
    "num_data.head()"
   ],
   "outputs": [
    {
     "output_type": "execute_result",
     "data": {
      "text/html": [
       "<div>\n",
       "<style scoped>\n",
       "    .dataframe tbody tr th:only-of-type {\n",
       "        vertical-align: middle;\n",
       "    }\n",
       "\n",
       "    .dataframe tbody tr th {\n",
       "        vertical-align: top;\n",
       "    }\n",
       "\n",
       "    .dataframe thead th {\n",
       "        text-align: right;\n",
       "    }\n",
       "</style>\n",
       "<table border=\"1\" class=\"dataframe\">\n",
       "  <thead>\n",
       "    <tr style=\"text-align: right;\">\n",
       "      <th></th>\n",
       "      <th>Cylinders</th>\n",
       "      <th>Displacement</th>\n",
       "      <th>Horsepower</th>\n",
       "      <th>Weight</th>\n",
       "      <th>Acceleration</th>\n",
       "      <th>Model Year</th>\n",
       "    </tr>\n",
       "  </thead>\n",
       "  <tbody>\n",
       "    <tr>\n",
       "      <th>145</th>\n",
       "      <td>4</td>\n",
       "      <td>83.0</td>\n",
       "      <td>61.0</td>\n",
       "      <td>2003.0</td>\n",
       "      <td>19.0</td>\n",
       "      <td>74</td>\n",
       "    </tr>\n",
       "    <tr>\n",
       "      <th>151</th>\n",
       "      <td>4</td>\n",
       "      <td>79.0</td>\n",
       "      <td>67.0</td>\n",
       "      <td>2000.0</td>\n",
       "      <td>16.0</td>\n",
       "      <td>74</td>\n",
       "    </tr>\n",
       "    <tr>\n",
       "      <th>388</th>\n",
       "      <td>4</td>\n",
       "      <td>156.0</td>\n",
       "      <td>92.0</td>\n",
       "      <td>2585.0</td>\n",
       "      <td>14.5</td>\n",
       "      <td>82</td>\n",
       "    </tr>\n",
       "    <tr>\n",
       "      <th>48</th>\n",
       "      <td>6</td>\n",
       "      <td>250.0</td>\n",
       "      <td>88.0</td>\n",
       "      <td>3139.0</td>\n",
       "      <td>14.5</td>\n",
       "      <td>71</td>\n",
       "    </tr>\n",
       "    <tr>\n",
       "      <th>114</th>\n",
       "      <td>4</td>\n",
       "      <td>98.0</td>\n",
       "      <td>90.0</td>\n",
       "      <td>2265.0</td>\n",
       "      <td>15.5</td>\n",
       "      <td>73</td>\n",
       "    </tr>\n",
       "  </tbody>\n",
       "</table>\n",
       "</div>"
      ],
      "text/plain": [
       "     Cylinders  Displacement  Horsepower  Weight  Acceleration  Model Year\n",
       "145          4          83.0        61.0  2003.0          19.0          74\n",
       "151          4          79.0        67.0  2000.0          16.0          74\n",
       "388          4         156.0        92.0  2585.0          14.5          82\n",
       "48           6         250.0        88.0  3139.0          14.5          71\n",
       "114          4          98.0        90.0  2265.0          15.5          73"
      ]
     },
     "metadata": {},
     "execution_count": 38
    }
   ],
   "metadata": {}
  },
  {
   "cell_type": "code",
   "execution_count": 37,
   "source": [
    "## Segregating the numerical columns\r\n",
    "num_data = data.iloc[:,:-1]\r\n",
    "num_data.info()"
   ],
   "outputs": [
    {
     "output_type": "stream",
     "name": "stdout",
     "text": [
      "<class 'pandas.core.frame.DataFrame'>\n",
      "Int64Index: 318 entries, 145 to 362\n",
      "Data columns (total 6 columns):\n",
      " #   Column        Non-Null Count  Dtype  \n",
      "---  ------        --------------  -----  \n",
      " 0   Cylinders     318 non-null    int64  \n",
      " 1   Displacement  318 non-null    float64\n",
      " 2   Horsepower    318 non-null    float64\n",
      " 3   Weight        318 non-null    float64\n",
      " 4   Acceleration  318 non-null    float64\n",
      " 5   Model Year    318 non-null    int64  \n",
      "dtypes: float64(4), int64(2)\n",
      "memory usage: 17.4 KB\n"
     ]
    }
   ],
   "metadata": {}
  },
  {
   "cell_type": "code",
   "execution_count": 39,
   "source": [
    "# handling missing values\r\n",
    "from sklearn.impute import SimpleImputer\r\n",
    "imputer = SimpleImputer(strategy='median') #we can use mean mode and many more...\r\n",
    "imputer.fit(num_data)"
   ],
   "outputs": [
    {
     "output_type": "execute_result",
     "data": {
      "text/plain": [
       "SimpleImputer(strategy='median')"
      ]
     },
     "metadata": {},
     "execution_count": 39
    }
   ],
   "metadata": {}
  },
  {
   "cell_type": "code",
   "execution_count": 40,
   "source": [
    "# median of all columns from imputer\r\n",
    "imputer.statistics_"
   ],
   "outputs": [
    {
     "output_type": "execute_result",
     "data": {
      "text/plain": [
       "array([   4. ,  146. ,   93.5, 2844. ,   15.5,   76. ])"
      ]
     },
     "metadata": {},
     "execution_count": 40
    }
   ],
   "metadata": {}
  },
  {
   "cell_type": "code",
   "execution_count": 41,
   "source": [
    "# median from pandas data frame\r\n",
    "\r\n",
    "data.median().values"
   ],
   "outputs": [
    {
     "output_type": "execute_result",
     "data": {
      "text/plain": [
       "array([   4. ,  146. ,   93.5, 2844. ,   15.5,   76. ])"
      ]
     },
     "metadata": {},
     "execution_count": 41
    }
   ],
   "metadata": {}
  },
  {
   "cell_type": "code",
   "execution_count": 42,
   "source": [
    "# Mean of the all the colums\r\n",
    "\r\n",
    "data.mean().values"
   ],
   "outputs": [
    {
     "output_type": "execute_result",
     "data": {
      "text/plain": [
       "array([   5.45283019,  192.40880503,  103.71069182, 2977.08176101,\n",
       "         15.63867925,   75.99685535])"
      ]
     },
     "metadata": {},
     "execution_count": 42
    }
   ],
   "metadata": {}
  },
  {
   "cell_type": "code",
   "execution_count": 43,
   "source": [
    "#imputing the missing values by transforming the dataframe\r\n",
    "X = imputer.transform(num_data)\r\n",
    "X"
   ],
   "outputs": [
    {
     "output_type": "execute_result",
     "data": {
      "text/plain": [
       "array([[   4. ,   83. ,   61. , 2003. ,   19. ,   74. ],\n",
       "       [   4. ,   79. ,   67. , 2000. ,   16. ,   74. ],\n",
       "       [   4. ,  156. ,   92. , 2585. ,   14.5,   82. ],\n",
       "       ...,\n",
       "       [   4. ,  135. ,   84. , 2295. ,   11.6,   82. ],\n",
       "       [   4. ,  113. ,   95. , 2372. ,   15. ,   70. ],\n",
       "       [   6. ,  146. ,  120. , 2930. ,   13.8,   81. ]])"
      ]
     },
     "metadata": {},
     "execution_count": 43
    }
   ],
   "metadata": {}
  },
  {
   "cell_type": "code",
   "execution_count": 44,
   "source": [
    "# Converting 2D array back into dataframe\r\n",
    "data_tr = pd.DataFrame(X, columns= num_data.columns, index= num_data.index)\r\n",
    "data_tr.info()"
   ],
   "outputs": [
    {
     "output_type": "stream",
     "name": "stdout",
     "text": [
      "<class 'pandas.core.frame.DataFrame'>\n",
      "Int64Index: 318 entries, 145 to 362\n",
      "Data columns (total 6 columns):\n",
      " #   Column        Non-Null Count  Dtype  \n",
      "---  ------        --------------  -----  \n",
      " 0   Cylinders     318 non-null    float64\n",
      " 1   Displacement  318 non-null    float64\n",
      " 2   Horsepower    318 non-null    float64\n",
      " 3   Weight        318 non-null    float64\n",
      " 4   Acceleration  318 non-null    float64\n",
      " 5   Model Year    318 non-null    float64\n",
      "dtypes: float64(6)\n",
      "memory usage: 17.4 KB\n"
     ]
    }
   ],
   "metadata": {}
  },
  {
   "cell_type": "markdown",
   "source": [
    "# Adding Attributes using BaseEstimator and Transformer"
   ],
   "metadata": {}
  },
  {
   "cell_type": "code",
   "execution_count": 45,
   "source": [
    "num_data.head()"
   ],
   "outputs": [
    {
     "output_type": "execute_result",
     "data": {
      "text/html": [
       "<div>\n",
       "<style scoped>\n",
       "    .dataframe tbody tr th:only-of-type {\n",
       "        vertical-align: middle;\n",
       "    }\n",
       "\n",
       "    .dataframe tbody tr th {\n",
       "        vertical-align: top;\n",
       "    }\n",
       "\n",
       "    .dataframe thead th {\n",
       "        text-align: right;\n",
       "    }\n",
       "</style>\n",
       "<table border=\"1\" class=\"dataframe\">\n",
       "  <thead>\n",
       "    <tr style=\"text-align: right;\">\n",
       "      <th></th>\n",
       "      <th>Cylinders</th>\n",
       "      <th>Displacement</th>\n",
       "      <th>Horsepower</th>\n",
       "      <th>Weight</th>\n",
       "      <th>Acceleration</th>\n",
       "      <th>Model Year</th>\n",
       "    </tr>\n",
       "  </thead>\n",
       "  <tbody>\n",
       "    <tr>\n",
       "      <th>145</th>\n",
       "      <td>4</td>\n",
       "      <td>83.0</td>\n",
       "      <td>61.0</td>\n",
       "      <td>2003.0</td>\n",
       "      <td>19.0</td>\n",
       "      <td>74</td>\n",
       "    </tr>\n",
       "    <tr>\n",
       "      <th>151</th>\n",
       "      <td>4</td>\n",
       "      <td>79.0</td>\n",
       "      <td>67.0</td>\n",
       "      <td>2000.0</td>\n",
       "      <td>16.0</td>\n",
       "      <td>74</td>\n",
       "    </tr>\n",
       "    <tr>\n",
       "      <th>388</th>\n",
       "      <td>4</td>\n",
       "      <td>156.0</td>\n",
       "      <td>92.0</td>\n",
       "      <td>2585.0</td>\n",
       "      <td>14.5</td>\n",
       "      <td>82</td>\n",
       "    </tr>\n",
       "    <tr>\n",
       "      <th>48</th>\n",
       "      <td>6</td>\n",
       "      <td>250.0</td>\n",
       "      <td>88.0</td>\n",
       "      <td>3139.0</td>\n",
       "      <td>14.5</td>\n",
       "      <td>71</td>\n",
       "    </tr>\n",
       "    <tr>\n",
       "      <th>114</th>\n",
       "      <td>4</td>\n",
       "      <td>98.0</td>\n",
       "      <td>90.0</td>\n",
       "      <td>2265.0</td>\n",
       "      <td>15.5</td>\n",
       "      <td>73</td>\n",
       "    </tr>\n",
       "  </tbody>\n",
       "</table>\n",
       "</div>"
      ],
      "text/plain": [
       "     Cylinders  Displacement  Horsepower  Weight  Acceleration  Model Year\n",
       "145          4          83.0        61.0  2003.0          19.0          74\n",
       "151          4          79.0        67.0  2000.0          16.0          74\n",
       "388          4         156.0        92.0  2585.0          14.5          82\n",
       "48           6         250.0        88.0  3139.0          14.5          71\n",
       "114          4          98.0        90.0  2265.0          15.5          73"
      ]
     },
     "metadata": {},
     "execution_count": 45
    }
   ],
   "metadata": {}
  },
  {
   "cell_type": "code",
   "execution_count": 46,
   "source": [
    "from sklearn.base import BaseEstimator, TransformerMixin\r\n",
    "\r\n",
    "acc_ix, hpower_ix, cyl_ix = 4, 2, 0\r\n",
    "\r\n",
    "class CustomAttrAdder(BaseEstimator, TransformerMixin):\r\n",
    "    def __init__(self, acc_on_power=True): # no *args or **kargs\r\n",
    "        self.acc_on_power = acc_on_power\r\n",
    "    def fit(self, X, y=None):\r\n",
    "        return self  # nothing else to do\r\n",
    "    def transform(self, X):\r\n",
    "        acc_on_cyl = X[:, acc_ix] / X[:, cyl_ix]\r\n",
    "        if self.acc_on_power:\r\n",
    "            acc_on_power = X[:, acc_ix] / X[:, hpower_ix]\r\n",
    "            return np.c_[X, acc_on_power, acc_on_cyl]\r\n",
    "        \r\n",
    "        return np.c_[X, acc_on_cyl] # This \".c_\" will concatenate the two parameters provided\r\n",
    "    \r\n",
    "attr_adder = CustomAttrAdder(acc_on_power=True)\r\n",
    "data_tr_extra_attrs = attr_adder.transform(data_tr.values)\r\n",
    "data_tr_extra_attrs[0]"
   ],
   "outputs": [
    {
     "output_type": "execute_result",
     "data": {
      "text/plain": [
       "array([4.0000000e+00, 8.3000000e+01, 6.1000000e+01, 2.0030000e+03,\n",
       "       1.9000000e+01, 7.4000000e+01, 3.1147541e-01, 4.7500000e+00])"
      ]
     },
     "metadata": {},
     "execution_count": 46
    }
   ],
   "metadata": {}
  },
  {
   "cell_type": "markdown",
   "source": [
    "# Create a Pipeline of tasks"
   ],
   "metadata": {}
  },
  {
   "cell_type": "code",
   "execution_count": 47,
   "source": [
    "cols = ['MPG','Cylinders','Displacement','Horsepower','Weight',\r\n",
    "                'Acceleration', 'Model Year', 'Origin']\r\n",
    "\r\n",
    "df = pd.read_csv('./auto-mpg.data', names=cols, na_values = \"?\",\r\n",
    "                comment = '\\t',\r\n",
    "                sep= \" \",\r\n",
    "                skipinitialspace=True)\r\n",
    "\r\n",
    "data = df.copy()\r\n",
    "\r\n",
    "split = StratifiedShuffleSplit(n_splits=1, test_size=0.2, random_state=42)\r\n",
    "for train_index, test_index in split.split(data, data[\"Cylinders\"]):\r\n",
    "    strat_train_set = data.loc[train_index]\r\n",
    "    strat_test_set = data.loc[test_index]"
   ],
   "outputs": [],
   "metadata": {}
  },
  {
   "cell_type": "code",
   "execution_count": 48,
   "source": [
    "data = strat_train_set.drop(\"MPG\", axis=1)\r\n",
    "data_labels = strat_train_set[\"MPG\"].copy()\r\n",
    "data"
   ],
   "outputs": [
    {
     "output_type": "execute_result",
     "data": {
      "text/html": [
       "<div>\n",
       "<style scoped>\n",
       "    .dataframe tbody tr th:only-of-type {\n",
       "        vertical-align: middle;\n",
       "    }\n",
       "\n",
       "    .dataframe tbody tr th {\n",
       "        vertical-align: top;\n",
       "    }\n",
       "\n",
       "    .dataframe thead th {\n",
       "        text-align: right;\n",
       "    }\n",
       "</style>\n",
       "<table border=\"1\" class=\"dataframe\">\n",
       "  <thead>\n",
       "    <tr style=\"text-align: right;\">\n",
       "      <th></th>\n",
       "      <th>Cylinders</th>\n",
       "      <th>Displacement</th>\n",
       "      <th>Horsepower</th>\n",
       "      <th>Weight</th>\n",
       "      <th>Acceleration</th>\n",
       "      <th>Model Year</th>\n",
       "      <th>Origin</th>\n",
       "    </tr>\n",
       "  </thead>\n",
       "  <tbody>\n",
       "    <tr>\n",
       "      <th>145</th>\n",
       "      <td>4</td>\n",
       "      <td>83.0</td>\n",
       "      <td>61.0</td>\n",
       "      <td>2003.0</td>\n",
       "      <td>19.0</td>\n",
       "      <td>74</td>\n",
       "      <td>3</td>\n",
       "    </tr>\n",
       "    <tr>\n",
       "      <th>151</th>\n",
       "      <td>4</td>\n",
       "      <td>79.0</td>\n",
       "      <td>67.0</td>\n",
       "      <td>2000.0</td>\n",
       "      <td>16.0</td>\n",
       "      <td>74</td>\n",
       "      <td>2</td>\n",
       "    </tr>\n",
       "    <tr>\n",
       "      <th>388</th>\n",
       "      <td>4</td>\n",
       "      <td>156.0</td>\n",
       "      <td>92.0</td>\n",
       "      <td>2585.0</td>\n",
       "      <td>14.5</td>\n",
       "      <td>82</td>\n",
       "      <td>1</td>\n",
       "    </tr>\n",
       "    <tr>\n",
       "      <th>48</th>\n",
       "      <td>6</td>\n",
       "      <td>250.0</td>\n",
       "      <td>88.0</td>\n",
       "      <td>3139.0</td>\n",
       "      <td>14.5</td>\n",
       "      <td>71</td>\n",
       "      <td>1</td>\n",
       "    </tr>\n",
       "    <tr>\n",
       "      <th>114</th>\n",
       "      <td>4</td>\n",
       "      <td>98.0</td>\n",
       "      <td>90.0</td>\n",
       "      <td>2265.0</td>\n",
       "      <td>15.5</td>\n",
       "      <td>73</td>\n",
       "      <td>2</td>\n",
       "    </tr>\n",
       "    <tr>\n",
       "      <th>...</th>\n",
       "      <td>...</td>\n",
       "      <td>...</td>\n",
       "      <td>...</td>\n",
       "      <td>...</td>\n",
       "      <td>...</td>\n",
       "      <td>...</td>\n",
       "      <td>...</td>\n",
       "    </tr>\n",
       "    <tr>\n",
       "      <th>147</th>\n",
       "      <td>4</td>\n",
       "      <td>90.0</td>\n",
       "      <td>75.0</td>\n",
       "      <td>2108.0</td>\n",
       "      <td>15.5</td>\n",
       "      <td>74</td>\n",
       "      <td>2</td>\n",
       "    </tr>\n",
       "    <tr>\n",
       "      <th>156</th>\n",
       "      <td>8</td>\n",
       "      <td>400.0</td>\n",
       "      <td>170.0</td>\n",
       "      <td>4668.0</td>\n",
       "      <td>11.5</td>\n",
       "      <td>75</td>\n",
       "      <td>1</td>\n",
       "    </tr>\n",
       "    <tr>\n",
       "      <th>395</th>\n",
       "      <td>4</td>\n",
       "      <td>135.0</td>\n",
       "      <td>84.0</td>\n",
       "      <td>2295.0</td>\n",
       "      <td>11.6</td>\n",
       "      <td>82</td>\n",
       "      <td>1</td>\n",
       "    </tr>\n",
       "    <tr>\n",
       "      <th>14</th>\n",
       "      <td>4</td>\n",
       "      <td>113.0</td>\n",
       "      <td>95.0</td>\n",
       "      <td>2372.0</td>\n",
       "      <td>15.0</td>\n",
       "      <td>70</td>\n",
       "      <td>3</td>\n",
       "    </tr>\n",
       "    <tr>\n",
       "      <th>362</th>\n",
       "      <td>6</td>\n",
       "      <td>146.0</td>\n",
       "      <td>120.0</td>\n",
       "      <td>2930.0</td>\n",
       "      <td>13.8</td>\n",
       "      <td>81</td>\n",
       "      <td>3</td>\n",
       "    </tr>\n",
       "  </tbody>\n",
       "</table>\n",
       "<p>318 rows × 7 columns</p>\n",
       "</div>"
      ],
      "text/plain": [
       "     Cylinders  Displacement  Horsepower  Weight  Acceleration  Model Year  \\\n",
       "145          4          83.0        61.0  2003.0          19.0          74   \n",
       "151          4          79.0        67.0  2000.0          16.0          74   \n",
       "388          4         156.0        92.0  2585.0          14.5          82   \n",
       "48           6         250.0        88.0  3139.0          14.5          71   \n",
       "114          4          98.0        90.0  2265.0          15.5          73   \n",
       "..         ...           ...         ...     ...           ...         ...   \n",
       "147          4          90.0        75.0  2108.0          15.5          74   \n",
       "156          8         400.0       170.0  4668.0          11.5          75   \n",
       "395          4         135.0        84.0  2295.0          11.6          82   \n",
       "14           4         113.0        95.0  2372.0          15.0          70   \n",
       "362          6         146.0       120.0  2930.0          13.8          81   \n",
       "\n",
       "     Origin  \n",
       "145       3  \n",
       "151       2  \n",
       "388       1  \n",
       "48        1  \n",
       "114       2  \n",
       "..      ...  \n",
       "147       2  \n",
       "156       1  \n",
       "395       1  \n",
       "14        3  \n",
       "362       3  \n",
       "\n",
       "[318 rows x 7 columns]"
      ]
     },
     "metadata": {},
     "execution_count": 48
    }
   ],
   "metadata": {}
  },
  {
   "cell_type": "code",
   "execution_count": 49,
   "source": [
    "from sklearn.pipeline import Pipeline\r\n",
    "##Using StandardScaler to scale all the numerical attributes\r\n",
    "from sklearn.preprocessing import StandardScaler\r\n",
    "\r\n",
    "def num_pipeline_transformer(data):\r\n",
    "    '''\r\n",
    "    Function to process numerical transformations\r\n",
    "    Argument:\r\n",
    "        data: original dataframe \r\n",
    "    Returns:\r\n",
    "        num_attrs: numerical dataframe\r\n",
    "        num_pipeline: numerical pipeline object\r\n",
    "        \r\n",
    "    '''\r\n",
    "    numerics = ['float64', 'int64']\r\n",
    "\r\n",
    "    num_attrs = data.select_dtypes(include=numerics)\r\n",
    "\r\n",
    "    num_pipeline = Pipeline([\r\n",
    "        ('imputer', SimpleImputer(strategy=\"median\")),\r\n",
    "        ('attrs_adder', CustomAttrAdder()),\r\n",
    "        ('std_scaler', StandardScaler()),\r\n",
    "        ])\r\n",
    "    return num_attrs, num_pipeline"
   ],
   "outputs": [],
   "metadata": {}
  },
  {
   "cell_type": "markdown",
   "source": [
    "# Transforming Numerical and Categorical Attributes"
   ],
   "metadata": {}
  },
  {
   "cell_type": "code",
   "execution_count": 50,
   "source": [
    "from sklearn.compose import ColumnTransformer\r\n",
    "\r\n",
    "def pipeline_transformer(data):\r\n",
    "    '''\r\n",
    "    Complete transformation pipeline for both\r\n",
    "    nuerical and categorical data.\r\n",
    "    \r\n",
    "    Argument:\r\n",
    "        data: original dataframe \r\n",
    "    Returns:\r\n",
    "        prepared_data: transformed data, ready to use\r\n",
    "    '''\r\n",
    "    cat_attrs = [\"Origin\"]\r\n",
    "    num_attrs, num_pipeline = num_pipeline_transformer(data)\r\n",
    "    full_pipeline = ColumnTransformer([\r\n",
    "        (\"num\", num_pipeline, list(num_attrs)),\r\n",
    "        (\"cat\", OneHotEncoder(), cat_attrs),\r\n",
    "        ])\r\n",
    "    prepared_data = full_pipeline.fit_transform(data)\r\n",
    "    return prepared_data"
   ],
   "outputs": [],
   "metadata": {}
  },
  {
   "cell_type": "markdown",
   "source": [
    "# From Raw data to processed data in 2 steps"
   ],
   "metadata": {}
  },
  {
   "cell_type": "code",
   "execution_count": 51,
   "source": [
    "preprocessed_df = preprocess_origin_cols(data)\r\n",
    "prepared_data = pipeline_transformer(preprocessed_df)"
   ],
   "outputs": [],
   "metadata": {}
  },
  {
   "cell_type": "code",
   "execution_count": 52,
   "source": [
    "prepared_data[0]"
   ],
   "outputs": [
    {
     "output_type": "execute_result",
     "data": {
      "text/plain": [
       "array([-0.85657842, -1.07804475, -1.15192977, -1.17220298,  1.21586943,\n",
       "       -0.54436373,  1.70952741,  1.29565517,  1.        ,  0.        ,\n",
       "        0.        ])"
      ]
     },
     "metadata": {},
     "execution_count": 52
    }
   ],
   "metadata": {}
  },
  {
   "cell_type": "markdown",
   "source": [
    "# Selecting and Training Models"
   ],
   "metadata": {}
  },
  {
   "cell_type": "code",
   "execution_count": 53,
   "source": [
    "from sklearn.linear_model import LinearRegression\r\n",
    "\r\n",
    "lin_reg = LinearRegression()\r\n",
    "lin_reg.fit(prepared_data, data_labels)"
   ],
   "outputs": [
    {
     "output_type": "execute_result",
     "data": {
      "text/plain": [
       "LinearRegression()"
      ]
     },
     "metadata": {},
     "execution_count": 53
    }
   ],
   "metadata": {}
  },
  {
   "cell_type": "code",
   "execution_count": 54,
   "source": [
    "# testing the predictions with test data\r\n",
    "sample_data = data.iloc[:5]\r\n",
    "sample_labels = data_labels.iloc[:5]\r\n",
    "\r\n",
    "sample_data_processed = pipeline_transformer(sample_data)\r\n",
    "\r\n",
    "print('Prediction of samples:', lin_reg.predict(sample_data_processed))"
   ],
   "outputs": [
    {
     "output_type": "stream",
     "name": "stdout",
     "text": [
      "Prediction of samples: [29.08069379 27.78336755 26.08031176 12.70419279 22.23454159]\n"
     ]
    }
   ],
   "metadata": {}
  },
  {
   "cell_type": "code",
   "execution_count": 55,
   "source": [
    "print('Actual Labels of samples:', list(sample_labels))"
   ],
   "outputs": [
    {
     "output_type": "stream",
     "name": "stdout",
     "text": [
      "Actual Labels of samples: [32.0, 31.0, 26.0, 18.0, 26.0]\n"
     ]
    }
   ],
   "metadata": {}
  },
  {
   "cell_type": "markdown",
   "source": [
    "# Mean Squared Error\r\n",
    "\r\n",
    "If there are more outliers in your data, It's best to use \"Absolute Error\"."
   ],
   "metadata": {}
  },
  {
   "cell_type": "code",
   "execution_count": 56,
   "source": [
    "from sklearn.metrics import mean_squared_error\r\n",
    "\r\n",
    "mpg_predictions = lin_reg.predict(prepared_data)\r\n",
    "lin_mse = mean_squared_error(data_labels, mpg_predictions)\r\n",
    "lin_rmse = np.sqrt(lin_mse)\r\n",
    "lin_rmse"
   ],
   "outputs": [
    {
     "output_type": "execute_result",
     "data": {
      "text/plain": [
       "2.9590402225760872"
      ]
     },
     "metadata": {},
     "execution_count": 56
    }
   ],
   "metadata": {}
  },
  {
   "cell_type": "markdown",
   "source": [
    "# Decision tree"
   ],
   "metadata": {}
  },
  {
   "cell_type": "code",
   "execution_count": 57,
   "source": [
    "from sklearn.tree import DecisionTreeRegressor\r\n",
    "tree_reg = DecisionTreeRegressor()\r\n",
    "tree_reg.fit(prepared_data, data_labels)"
   ],
   "outputs": [
    {
     "output_type": "execute_result",
     "data": {
      "text/plain": [
       "DecisionTreeRegressor()"
      ]
     },
     "metadata": {},
     "execution_count": 57
    }
   ],
   "metadata": {}
  },
  {
   "cell_type": "code",
   "execution_count": 58,
   "source": [
    "mpg_predictions = tree_reg.predict(prepared_data)\r\n",
    "tree_mse = mean_squared_error(data_labels, mpg_predictions)\r\n",
    "print(tree_mse)\r\n",
    "tree_rmse = np.sqrt(tree_mse)\r\n",
    "tree_rmse"
   ],
   "outputs": [
    {
     "output_type": "stream",
     "name": "stdout",
     "text": [
      "0.0\n"
     ]
    },
    {
     "output_type": "execute_result",
     "data": {
      "text/plain": [
       "0.0"
      ]
     },
     "metadata": {},
     "execution_count": 58
    }
   ],
   "metadata": {}
  },
  {
   "cell_type": "markdown",
   "source": [
    "But no model is perfect, this means that our model has overfit the data to a great extent.\r\n",
    "\r\n",
    "We won't be touching out test data until we finalize our model. So, how do we check for what's happening?"
   ],
   "metadata": {}
  },
  {
   "cell_type": "markdown",
   "source": [
    "# Model Evaluation using Cross Validation\r\n",
    "Scikit-Learn’s **K-fold cross-validation** feature randomly splits the training set into K distinct subsets called folds, then it trains and evaluates the model K times, picking a different fold for evaluation every time and training on the other K-1 folds.\r\n",
    "\r\n",
    "The result is an array containing the K evaluation scores:"
   ],
   "metadata": {}
  },
  {
   "cell_type": "code",
   "execution_count": 59,
   "source": [
    "from sklearn.model_selection import cross_val_score\r\n",
    "\r\n",
    "scores = cross_val_score(tree_reg,\r\n",
    "                          prepared_data,\r\n",
    "                          data_labels,\r\n",
    "                          scoring = 'neg_mean_squared_error', # It's Basically negative Mean squared error.\r\n",
    "                          cv=10)                              #Just to mention the error negatively.\r\n",
    "\r\n",
    "tree_reg_rmse_scores = np.sqrt(-scores) #as the values are computed negatively, we add '-ve' to make the error positive"
   ],
   "outputs": [],
   "metadata": {}
  },
  {
   "cell_type": "code",
   "execution_count": 60,
   "source": [
    "tree_reg_rmse_scores"
   ],
   "outputs": [
    {
     "output_type": "execute_result",
     "data": {
      "text/plain": [
       "array([2.94772158, 2.83333946, 3.01765638, 3.2574434 , 2.21387669,\n",
       "       2.87304281, 3.79044852, 5.47956431, 4.15494265, 2.54925669])"
      ]
     },
     "metadata": {},
     "execution_count": 60
    }
   ],
   "metadata": {}
  },
  {
   "cell_type": "code",
   "execution_count": 61,
   "source": [
    "tree_reg_rmse_scores.mean()"
   ],
   "outputs": [
    {
     "output_type": "execute_result",
     "data": {
      "text/plain": [
       "3.31172924820939"
      ]
     },
     "metadata": {},
     "execution_count": 61
    }
   ],
   "metadata": {}
  },
  {
   "cell_type": "code",
   "execution_count": 62,
   "source": [
    "scores = cross_val_score(lin_reg,\r\n",
    "                         prepared_data,\r\n",
    "                         data_labels,\r\n",
    "                         scoring='neg_mean_squared_error',\r\n",
    "                         cv=10)\r\n",
    "lin_reg_rmse_scores = np.sqrt(-scores)\r\n",
    "lin_reg_rmse_scores"
   ],
   "outputs": [
    {
     "output_type": "execute_result",
     "data": {
      "text/plain": [
       "array([3.43254597, 3.45962304, 3.66031739, 2.59652976, 2.48023405,\n",
       "       2.77343662, 3.32524647, 2.39606515, 3.78133275, 2.8573747 ])"
      ]
     },
     "metadata": {},
     "execution_count": 62
    }
   ],
   "metadata": {}
  },
  {
   "cell_type": "code",
   "execution_count": 63,
   "source": [
    "lin_reg_rmse_scores.mean()"
   ],
   "outputs": [
    {
     "output_type": "execute_result",
     "data": {
      "text/plain": [
       "3.076270589533085"
      ]
     },
     "metadata": {},
     "execution_count": 63
    }
   ],
   "metadata": {}
  },
  {
   "cell_type": "markdown",
   "source": [
    "# Random Forest model"
   ],
   "metadata": {}
  },
  {
   "cell_type": "code",
   "execution_count": 64,
   "source": [
    "from sklearn.ensemble import RandomForestRegressor\r\n",
    "\r\n",
    "forest_reg = RandomForestRegressor()\r\n",
    "forest_reg.fit(prepared_data,data_labels)\r\n",
    "forest_reg_cv_scores =  cross_val_score(forest_reg,prepared_data,data_labels,scoring='neg_mean_squared_error',cv=10)\r\n",
    "\r\n",
    "forest_reg_rmse_scores = np.sqrt(-forest_reg_cv_scores)\r\n",
    "forest_reg_rmse_scores.mean()"
   ],
   "outputs": [
    {
     "output_type": "execute_result",
     "data": {
      "text/plain": [
       "2.5715210703297045"
      ]
     },
     "metadata": {},
     "execution_count": 64
    }
   ],
   "metadata": {}
  },
  {
   "cell_type": "markdown",
   "source": [
    "# Support Vector Machine Regressor"
   ],
   "metadata": {}
  },
  {
   "cell_type": "code",
   "execution_count": 65,
   "source": [
    "from sklearn.svm import SVR\r\n",
    "\r\n",
    "svm_reg = SVR()\r\n",
    "svm_reg.fit(prepared_data, data_labels)\r\n",
    "svm_cv_scores = cross_val_score(svm_reg, prepared_data, data_labels, scoring='neg_mean_squared_error',cv=10)\r\n",
    "svm_rmse_scores = np.sqrt(-svm_cv_scores)\r\n",
    "svm_rmse_scores.mean()"
   ],
   "outputs": [
    {
     "output_type": "execute_result",
     "data": {
      "text/plain": [
       "3.164117785619293"
      ]
     },
     "metadata": {},
     "execution_count": 65
    }
   ],
   "metadata": {}
  },
  {
   "cell_type": "markdown",
   "source": [
    "# HyperParameter Tuning using GridSearchCv"
   ],
   "metadata": {}
  },
  {
   "cell_type": "code",
   "execution_count": 66,
   "source": [
    "from sklearn.model_selection import GridSearchCV\r\n",
    "\r\n",
    "param_grid = [\r\n",
    "    {'n_estimators': [3, 10, 30], 'max_features': [2, 4, 6, 8]},\r\n",
    "    {'bootstrap': [False], 'n_estimators': [3, 10], 'max_features': [2, 3, 4]},\r\n",
    "  ]\r\n",
    "\r\n",
    "forest_reg = RandomForestRegressor()\r\n",
    "\r\n",
    "grid_search = GridSearchCV(forest_reg, param_grid,\r\n",
    "                           scoring='neg_mean_squared_error',\r\n",
    "                           return_train_score=True,\r\n",
    "                           cv=10,\r\n",
    "                          )\r\n",
    "\r\n",
    "grid_search.fit(prepared_data, data_labels)"
   ],
   "outputs": [
    {
     "output_type": "execute_result",
     "data": {
      "text/plain": [
       "GridSearchCV(cv=10, estimator=RandomForestRegressor(),\n",
       "             param_grid=[{'max_features': [2, 4, 6, 8],\n",
       "                          'n_estimators': [3, 10, 30]},\n",
       "                         {'bootstrap': [False], 'max_features': [2, 3, 4],\n",
       "                          'n_estimators': [3, 10]}],\n",
       "             return_train_score=True, scoring='neg_mean_squared_error')"
      ]
     },
     "metadata": {},
     "execution_count": 66
    }
   ],
   "metadata": {}
  },
  {
   "cell_type": "code",
   "execution_count": 67,
   "source": [
    "grid_search.best_params_"
   ],
   "outputs": [
    {
     "output_type": "execute_result",
     "data": {
      "text/plain": [
       "{'max_features': 8, 'n_estimators': 10}"
      ]
     },
     "metadata": {},
     "execution_count": 67
    }
   ],
   "metadata": {}
  },
  {
   "cell_type": "code",
   "execution_count": 68,
   "source": [
    "cv_scores = grid_search.cv_results_\r\n",
    "\r\n",
    "##printing all the parameters along with their scores\r\n",
    "for mean_score, params in zip(cv_scores['mean_test_score'], cv_scores[\"params\"]):\r\n",
    "    print(np.sqrt(-mean_score), params)"
   ],
   "outputs": [
    {
     "output_type": "stream",
     "name": "stdout",
     "text": [
      "3.251961532405285 {'max_features': 2, 'n_estimators': 3}\n",
      "3.119829630829739 {'max_features': 2, 'n_estimators': 10}\n",
      "2.866681233183623 {'max_features': 2, 'n_estimators': 30}\n",
      "3.2324696773602946 {'max_features': 4, 'n_estimators': 3}\n",
      "2.855015989517961 {'max_features': 4, 'n_estimators': 10}\n",
      "2.7723968811924964 {'max_features': 4, 'n_estimators': 30}\n",
      "3.096291283658831 {'max_features': 6, 'n_estimators': 3}\n",
      "2.885495291037013 {'max_features': 6, 'n_estimators': 10}\n",
      "2.725474705248906 {'max_features': 6, 'n_estimators': 30}\n",
      "3.1971273193099665 {'max_features': 8, 'n_estimators': 3}\n",
      "2.704762932340151 {'max_features': 8, 'n_estimators': 10}\n",
      "2.739003354119876 {'max_features': 8, 'n_estimators': 30}\n",
      "3.385626308645435 {'bootstrap': False, 'max_features': 2, 'n_estimators': 3}\n",
      "3.0974410842114963 {'bootstrap': False, 'max_features': 2, 'n_estimators': 10}\n",
      "3.235295830817211 {'bootstrap': False, 'max_features': 3, 'n_estimators': 3}\n",
      "2.8305471676241614 {'bootstrap': False, 'max_features': 3, 'n_estimators': 10}\n",
      "3.002693645849402 {'bootstrap': False, 'max_features': 4, 'n_estimators': 3}\n",
      "2.985479869368277 {'bootstrap': False, 'max_features': 4, 'n_estimators': 10}\n"
     ]
    }
   ],
   "metadata": {}
  },
  {
   "cell_type": "markdown",
   "source": [
    "# Checking Feature Importance"
   ],
   "metadata": {}
  },
  {
   "cell_type": "code",
   "execution_count": 69,
   "source": [
    "feature_importance = grid_search.best_estimator_.feature_importances_\r\n",
    "feature_importance"
   ],
   "outputs": [
    {
     "output_type": "execute_result",
     "data": {
      "text/plain": [
       "array([0.23369548, 0.26192926, 0.16504342, 0.16055405, 0.01169776,\n",
       "       0.12358165, 0.01864092, 0.01759373, 0.00485487, 0.0016524 ,\n",
       "       0.00075647])"
      ]
     },
     "metadata": {},
     "execution_count": 69
    }
   ],
   "metadata": {}
  },
  {
   "cell_type": "code",
   "execution_count": 70,
   "source": [
    "extra_attrs = [\"acc_on_power\", \"acc_on_cyl\"]\r\n",
    "numerics = ['float64', 'int64']\r\n",
    "num_attrs = list(data.select_dtypes(include=numerics))\r\n",
    "\r\n",
    "attrs = num_attrs + extra_attrs\r\n",
    "sorted(zip(attrs, feature_importance), reverse=True)"
   ],
   "outputs": [
    {
     "output_type": "execute_result",
     "data": {
      "text/plain": [
       "[('acc_on_power', 0.018640917829174146),\n",
       " ('acc_on_cyl', 0.017593729967447007),\n",
       " ('Weight', 0.1605540538270586),\n",
       " ('Model Year', 0.12358164502778421),\n",
       " ('Horsepower', 0.16504341620139304),\n",
       " ('Displacement', 0.26192925764441594),\n",
       " ('Cylinders', 0.23369547693015078),\n",
       " ('Acceleration', 0.011697758974942738)]"
      ]
     },
     "metadata": {},
     "execution_count": 70
    }
   ],
   "metadata": {}
  },
  {
   "cell_type": "markdown",
   "source": [
    "# Evaluating the entire system on Test Data"
   ],
   "metadata": {}
  },
  {
   "cell_type": "code",
   "execution_count": 71,
   "source": [
    "final_model = grid_search.best_estimator_\r\n",
    "\r\n",
    "X_test = strat_test_set.drop(\"MPG\", axis=1)\r\n",
    "y_test = strat_test_set[\"MPG\"].copy()\r\n",
    "\r\n",
    "X_test_preprocessed = preprocess_origin_cols(X_test)\r\n",
    "X_test_prepared = pipeline_transformer(X_test_preprocessed)\r\n",
    "\r\n",
    "final_predictions = final_model.predict(X_test_prepared)\r\n",
    "final_mse = mean_squared_error(y_test, final_predictions)\r\n",
    "final_rmse = np.sqrt(final_mse)"
   ],
   "outputs": [],
   "metadata": {}
  },
  {
   "cell_type": "code",
   "execution_count": 72,
   "source": [
    "final_rmse"
   ],
   "outputs": [
    {
     "output_type": "execute_result",
     "data": {
      "text/plain": [
       "3.315315030279929"
      ]
     },
     "metadata": {},
     "execution_count": 72
    }
   ],
   "metadata": {}
  },
  {
   "cell_type": "markdown",
   "source": [
    "# Creating a function to cover this entire flow"
   ],
   "metadata": {}
  },
  {
   "cell_type": "code",
   "execution_count": 73,
   "source": [
    "def predict_mpg(config, model):\r\n",
    "    \r\n",
    "    if type(config) == dict:\r\n",
    "        df = pd.DataFrame(config)\r\n",
    "    else:\r\n",
    "        df = config\r\n",
    "    \r\n",
    "    preproc_df = preprocess_origin_cols(df)\r\n",
    "    prepared_df = pipeline_transformer(preproc_df)\r\n",
    "    y_pred = model.predict(prepared_df)\r\n",
    "    return y_pred"
   ],
   "outputs": [],
   "metadata": {}
  },
  {
   "cell_type": "code",
   "execution_count": 74,
   "source": [
    "##checking it on a random sample\r\n",
    "vehicle_config = {\r\n",
    "    'Cylinders': [4, 6, 8],\r\n",
    "    'Displacement': [155.0, 160.0, 165.5],\r\n",
    "    'Horsepower': [93.0, 130.0, 98.0],\r\n",
    "    'Weight': [2500.0, 3150.0, 2600.0],\r\n",
    "    'Acceleration': [15.0, 14.0, 16.0],\r\n",
    "    'Model Year': [81, 80, 78],\r\n",
    "    'Origin': [3, 2, 1]\r\n",
    "}\r\n",
    "\r\n",
    "predict_mpg(vehicle_config, final_model)"
   ],
   "outputs": [
    {
     "output_type": "execute_result",
     "data": {
      "text/plain": [
       "array([32.08, 19.62, 19.19])"
      ]
     },
     "metadata": {},
     "execution_count": 74
    }
   ],
   "metadata": {}
  },
  {
   "cell_type": "markdown",
   "source": [
    "# Save the Model"
   ],
   "metadata": {}
  },
  {
   "cell_type": "code",
   "execution_count": 75,
   "source": [
    "import pickle"
   ],
   "outputs": [],
   "metadata": {}
  },
  {
   "cell_type": "code",
   "execution_count": 76,
   "source": [
    "##saving the model\r\n",
    "with open(\"model.bin\", 'wb') as f_out:\r\n",
    "    pickle.dump(final_model, f_out)\r\n",
    "    f_out.close()"
   ],
   "outputs": [],
   "metadata": {}
  },
  {
   "cell_type": "code",
   "execution_count": 77,
   "source": [
    "#loading the model from the saved file\r\n",
    "with open('model.bin', 'rb') as f_in:\r\n",
    "    model = pickle.load(f_in)\r\n",
    "\r\n",
    "predict_mpg(vehicle_config, model)"
   ],
   "outputs": [
    {
     "output_type": "execute_result",
     "data": {
      "text/plain": [
       "array([32.08, 19.62, 19.19])"
      ]
     },
     "metadata": {},
     "execution_count": 77
    }
   ],
   "metadata": {}
  },
  {
   "cell_type": "code",
   "execution_count": 80,
   "source": [
    "import requests\r\n",
    "\r\n",
    "url = 'http://192.168.205.100:9696/'\r\n",
    "r = requests.post(url, json=vehicle_config)\r\n",
    "r.text.strip()"
   ],
   "outputs": [
    {
     "output_type": "execute_result",
     "data": {
      "text/plain": [
       "'<!DOCTYPE HTML PUBLIC \"-//W3C//DTD HTML 4.01 Transitional//EN\"\\n  \"http://www.w3.org/TR/html4/loose.dtd\">\\n<html>\\n  <head>\\n    <title>TypeError: &#x27;method&#x27; object is not subscriptable // Werkzeug Debugger</title>\\n    <link rel=\"stylesheet\" href=\"?__debugger__=yes&amp;cmd=resource&amp;f=style.css\"\\n        type=\"text/css\">\\n    <!-- We need to make sure this has a favicon so that the debugger does\\n         not accidentally trigger a request to /favicon.ico which might\\n         change the application\\'s state. -->\\n    <link rel=\"shortcut icon\"\\n        href=\"?__debugger__=yes&amp;cmd=resource&amp;f=console.png\">\\n    <script src=\"?__debugger__=yes&amp;cmd=resource&amp;f=debugger.js\"></script>\\n    <script type=\"text/javascript\">\\n      var TRACEBACK = 197155328,\\n          CONSOLE_MODE = false,\\n          EVALEX = true,\\n          EVALEX_TRUSTED = false,\\n          SECRET = \"E0jXM4fO6iEka6z14Stn\";\\n    </script>\\n  </head>\\n  <body style=\"background-color: #fff\">\\n    <div class=\"debugger\">\\n<h1>TypeError</h1>\\n<div class=\"detail\">\\n  <p class=\"errormsg\">TypeError: &#x27;method&#x27; object is not subscriptable</p>\\n</div>\\n<h2 class=\"traceback\">Traceback <em>(most recent call last)</em></h2>\\n<div class=\"traceback\">\\n  <h3></h3>\\n  <ul><li><div class=\"frame\" id=\"frame-197155472\">\\n  <h4>File <cite class=\"filename\">\"C:\\\\Users\\\\sri\\\\AppData\\\\Local\\\\Programs\\\\Python\\\\Python38-32\\\\Lib\\\\site-packages\\\\flask\\\\app.py\"</cite>,\\n      line <em class=\"line\">2088</em>,\\n      in <code class=\"function\">__call__</code></h4>\\n  <div class=\"source library\"><pre class=\"line before\"><span class=\"ws\">    </span>def __call__(self, environ: dict, start_response: t.Callable) -&gt; t.Any:</pre>\\n<pre class=\"line before\"><span class=\"ws\">        </span>&quot;&quot;&quot;The WSGI server calls the Flask application object as the</pre>\\n<pre class=\"line before\"><span class=\"ws\">        </span>WSGI application. This calls :meth:`wsgi_app`, which can be</pre>\\n<pre class=\"line before\"><span class=\"ws\">        </span>wrapped to apply middleware.</pre>\\n<pre class=\"line before\"><span class=\"ws\">        </span>&quot;&quot;&quot;</pre>\\n<pre class=\"line current\"><span class=\"ws\">        </span>return self.wsgi_app(environ, start_response)</pre></div>\\n</div>\\n\\n<li><div class=\"frame\" id=\"frame-197155712\">\\n  <h4>File <cite class=\"filename\">\"C:\\\\Users\\\\sri\\\\AppData\\\\Local\\\\Programs\\\\Python\\\\Python38-32\\\\Lib\\\\site-packages\\\\flask\\\\app.py\"</cite>,\\n      line <em class=\"line\">2073</em>,\\n      in <code class=\"function\">wsgi_app</code></h4>\\n  <div class=\"source library\"><pre class=\"line before\"><span class=\"ws\">            </span>try:</pre>\\n<pre class=\"line before\"><span class=\"ws\">                </span>ctx.push()</pre>\\n<pre class=\"line before\"><span class=\"ws\">                </span>response = self.full_dispatch_request()</pre>\\n<pre class=\"line before\"><span class=\"ws\">            </span>except Exception as e:</pre>\\n<pre class=\"line before\"><span class=\"ws\">                </span>error = e</pre>\\n<pre class=\"line current\"><span class=\"ws\">                </span>response = self.handle_exception(e)</pre>\\n<pre class=\"line after\"><span class=\"ws\">            </span>except:  # noqa: B001</pre>\\n<pre class=\"line after\"><span class=\"ws\">                </span>error = sys.exc_info()[1]</pre>\\n<pre class=\"line after\"><span class=\"ws\">                </span>raise</pre>\\n<pre class=\"line after\"><span class=\"ws\">            </span>return response(environ, start_response)</pre>\\n<pre class=\"line after\"><span class=\"ws\">        </span>finally:</pre></div>\\n</div>\\n\\n<li><div class=\"frame\" id=\"frame-197155976\">\\n  <h4>File <cite class=\"filename\">\"C:\\\\Users\\\\sri\\\\AppData\\\\Local\\\\Programs\\\\Python\\\\Python38-32\\\\Lib\\\\site-packages\\\\flask\\\\app.py\"</cite>,\\n      line <em class=\"line\">2070</em>,\\n      in <code class=\"function\">wsgi_app</code></h4>\\n  <div class=\"source library\"><pre class=\"line before\"><span class=\"ws\">        </span>ctx = self.request_context(environ)</pre>\\n<pre class=\"line before\"><span class=\"ws\">        </span>error: t.Optional[BaseException] = None</pre>\\n<pre class=\"line before\"><span class=\"ws\">        </span>try:</pre>\\n<pre class=\"line before\"><span class=\"ws\">            </span>try:</pre>\\n<pre class=\"line before\"><span class=\"ws\">                </span>ctx.push()</pre>\\n<pre class=\"line current\"><span class=\"ws\">                </span>response = self.full_dispatch_request()</pre>\\n<pre class=\"line after\"><span class=\"ws\">            </span>except Exception as e:</pre>\\n<pre class=\"line after\"><span class=\"ws\">                </span>error = e</pre>\\n<pre class=\"line after\"><span class=\"ws\">                </span>response = self.handle_exception(e)</pre>\\n<pre class=\"line after\"><span class=\"ws\">            </span>except:  # noqa: B001</pre>\\n<pre class=\"line after\"><span class=\"ws\">                </span>error = sys.exc_info()[1]</pre></div>\\n</div>\\n\\n<li><div class=\"frame\" id=\"frame-197155664\">\\n  <h4>File <cite class=\"filename\">\"C:\\\\Users\\\\sri\\\\AppData\\\\Local\\\\Programs\\\\Python\\\\Python38-32\\\\Lib\\\\site-packages\\\\flask\\\\app.py\"</cite>,\\n      line <em class=\"line\">1515</em>,\\n      in <code class=\"function\">full_dispatch_request</code></h4>\\n  <div class=\"source library\"><pre class=\"line before\"><span class=\"ws\">            </span>request_started.send(self)</pre>\\n<pre class=\"line before\"><span class=\"ws\">            </span>rv = self.preprocess_request()</pre>\\n<pre class=\"line before\"><span class=\"ws\">            </span>if rv is None:</pre>\\n<pre class=\"line before\"><span class=\"ws\">                </span>rv = self.dispatch_request()</pre>\\n<pre class=\"line before\"><span class=\"ws\">        </span>except Exception as e:</pre>\\n<pre class=\"line current\"><span class=\"ws\">            </span>rv = self.handle_user_exception(e)</pre>\\n<pre class=\"line after\"><span class=\"ws\">        </span>return self.finalize_request(rv)</pre>\\n<pre class=\"line after\"><span class=\"ws\"></span> </pre>\\n<pre class=\"line after\"><span class=\"ws\">    </span>def finalize_request(</pre>\\n<pre class=\"line after\"><span class=\"ws\">        </span>self,</pre>\\n<pre class=\"line after\"><span class=\"ws\">        </span>rv: t.Union[ResponseReturnValue, HTTPException],</pre></div>\\n</div>\\n\\n<li><div class=\"frame\" id=\"frame-197155952\">\\n  <h4>File <cite class=\"filename\">\"C:\\\\Users\\\\sri\\\\AppData\\\\Local\\\\Programs\\\\Python\\\\Python38-32\\\\Lib\\\\site-packages\\\\flask\\\\app.py\"</cite>,\\n      line <em class=\"line\">1513</em>,\\n      in <code class=\"function\">full_dispatch_request</code></h4>\\n  <div class=\"source library\"><pre class=\"line before\"><span class=\"ws\">        </span>self.try_trigger_before_first_request_functions()</pre>\\n<pre class=\"line before\"><span class=\"ws\">        </span>try:</pre>\\n<pre class=\"line before\"><span class=\"ws\">            </span>request_started.send(self)</pre>\\n<pre class=\"line before\"><span class=\"ws\">            </span>rv = self.preprocess_request()</pre>\\n<pre class=\"line before\"><span class=\"ws\">            </span>if rv is None:</pre>\\n<pre class=\"line current\"><span class=\"ws\">                </span>rv = self.dispatch_request()</pre>\\n<pre class=\"line after\"><span class=\"ws\">        </span>except Exception as e:</pre>\\n<pre class=\"line after\"><span class=\"ws\">            </span>rv = self.handle_user_exception(e)</pre>\\n<pre class=\"line after\"><span class=\"ws\">        </span>return self.finalize_request(rv)</pre>\\n<pre class=\"line after\"><span class=\"ws\"></span> </pre>\\n<pre class=\"line after\"><span class=\"ws\">    </span>def finalize_request(</pre></div>\\n</div>\\n\\n<li><div class=\"frame\" id=\"frame-197155784\">\\n  <h4>File <cite class=\"filename\">\"C:\\\\Users\\\\sri\\\\AppData\\\\Local\\\\Programs\\\\Python\\\\Python38-32\\\\Lib\\\\site-packages\\\\flask\\\\app.py\"</cite>,\\n      line <em class=\"line\">1499</em>,\\n      in <code class=\"function\">dispatch_request</code></h4>\\n  <div class=\"source library\"><pre class=\"line before\"><span class=\"ws\">            </span>getattr(rule, &quot;provide_automatic_options&quot;, False)</pre>\\n<pre class=\"line before\"><span class=\"ws\">            </span>and req.method == &quot;OPTIONS&quot;</pre>\\n<pre class=\"line before\"><span class=\"ws\">        </span>):</pre>\\n<pre class=\"line before\"><span class=\"ws\">            </span>return self.make_default_options_response()</pre>\\n<pre class=\"line before\"><span class=\"ws\">        </span># otherwise dispatch to the handler for that endpoint</pre>\\n<pre class=\"line current\"><span class=\"ws\">        </span>return self.ensure_sync(self.view_functions[rule.endpoint])(**req.view_args)</pre>\\n<pre class=\"line after\"><span class=\"ws\"></span> </pre>\\n<pre class=\"line after\"><span class=\"ws\">    </span>def full_dispatch_request(self) -&gt; Response:</pre>\\n<pre class=\"line after\"><span class=\"ws\">        </span>&quot;&quot;&quot;Dispatches the request and on top of that performs request</pre>\\n<pre class=\"line after\"><span class=\"ws\">        </span>pre and postprocessing as well as HTTP exception catching and</pre>\\n<pre class=\"line after\"><span class=\"ws\">        </span>error handling.</pre></div>\\n</div>\\n\\n<li><div class=\"frame\" id=\"frame-197156024\">\\n  <h4>File <cite class=\"filename\">\"C:\\\\Users\\\\sri\\\\Desktop\\\\ML_Flask_App\\\\main.py\"</cite>,\\n      line <em class=\"line\">17</em>,\\n      in <code class=\"function\">predict</code></h4>\\n  <div class=\"source \"><pre class=\"line before\"><span class=\"ws\"></span> </pre>\\n<pre class=\"line before\"><span class=\"ws\">    </span>with open(r&#x27;C:\\\\Users\\\\sri\\\\Desktop\\\\auto_mpg\\\\model.bin&#x27;,&#x27;rb&#x27;) as f_in:</pre>\\n<pre class=\"line before\"><span class=\"ws\">        </span>model = pickle.load(f_in)</pre>\\n<pre class=\"line before\"><span class=\"ws\">        </span>f_in.close()</pre>\\n<pre class=\"line before\"><span class=\"ws\"></span> </pre>\\n<pre class=\"line current\"><span class=\"ws\">    </span>predictions = predict_mpg(vehicle_config,model)</pre>\\n<pre class=\"line after\"><span class=\"ws\"></span> </pre>\\n<pre class=\"line after\"><span class=\"ws\">    </span>response = {</pre>\\n<pre class=\"line after\"><span class=\"ws\">        </span>&#x27;mpg_predictions&#x27; : list(predictions)</pre>\\n<pre class=\"line after\"><span class=\"ws\">    </span>}</pre>\\n<pre class=\"line after\"><span class=\"ws\"></span> </pre></div>\\n</div>\\n\\n<li><div class=\"frame\" id=\"frame-197156048\">\\n  <h4>File <cite class=\"filename\">\"C:\\\\Users\\\\sri\\\\Desktop\\\\ML_Flask_App\\\\model_files\\\\ml_model.py\"</cite>,\\n      line <em class=\"line\">85</em>,\\n      in <code class=\"function\">predict_mpg</code></h4>\\n  <div class=\"source \"><pre class=\"line before\"><span class=\"ws\">    </span>if type(config) == dict:</pre>\\n<pre class=\"line before\"><span class=\"ws\">        </span>df = pd.DataFrame(config)</pre>\\n<pre class=\"line before\"><span class=\"ws\">    </span>else:</pre>\\n<pre class=\"line before\"><span class=\"ws\">        </span>df = config</pre>\\n<pre class=\"line before\"><span class=\"ws\"></span> </pre>\\n<pre class=\"line current\"><span class=\"ws\">    </span>preproc_df = preprocess_origin_cols(df)</pre>\\n<pre class=\"line after\"><span class=\"ws\">    </span>prepared_df = pipeline_transformer(preproc_df)</pre>\\n<pre class=\"line after\"><span class=\"ws\">    </span>y_pred = model.predict(prepared_df)</pre>\\n<pre class=\"line after\"><span class=\"ws\">    </span>return y_pred</pre></div>\\n</div>\\n\\n<li><div class=\"frame\" id=\"frame-197156072\">\\n  <h4>File <cite class=\"filename\">\"C:\\\\Users\\\\sri\\\\Desktop\\\\ML_Flask_App\\\\model_files\\\\ml_model.py\"</cite>,\\n      line <em class=\"line\">17</em>,\\n      in <code class=\"function\">preprocess_origin_cols</code></h4>\\n  <div class=\"source \"><pre class=\"line before\"><span class=\"ws\"></span>from sklearn.compose import ColumnTransformer</pre>\\n<pre class=\"line before\"><span class=\"ws\"></span> </pre>\\n<pre class=\"line before\"><span class=\"ws\"></span># Functions</pre>\\n<pre class=\"line before\"><span class=\"ws\"></span> </pre>\\n<pre class=\"line before\"><span class=\"ws\"></span>def preprocess_origin_cols(df):</pre>\\n<pre class=\"line current\"><span class=\"ws\">    </span>df[&quot;Origin&quot;] = df[&quot;Origin&quot;].map({1: &quot;India&quot;, 2: &quot;USA&quot;, 3: &quot;Germany&quot;})</pre>\\n<pre class=\"line after\"><span class=\"ws\">    </span>return df</pre>\\n<pre class=\"line after\"><span class=\"ws\"></span> </pre>\\n<pre class=\"line after\"><span class=\"ws\"></span>##creating custom attribute adder class</pre>\\n<pre class=\"line after\"><span class=\"ws\"></span>acc_ix, hpower_ix, cyl_ix = 4,2, 0</pre>\\n<pre class=\"line after\"><span class=\"ws\"></span> </pre></div>\\n</div>\\n</ul>\\n  <blockquote>TypeError: &#x27;method&#x27; object is not subscriptable</blockquote>\\n</div>\\n\\n<div class=\"plain\">\\n    <p>\\n      This is the Copy/Paste friendly version of the traceback.\\n    </p>\\n    <textarea cols=\"50\" rows=\"10\" name=\"code\" readonly>Traceback (most recent call last):\\n  File &quot;C:\\\\Users\\\\sri\\\\AppData\\\\Local\\\\Programs\\\\Python\\\\Python38-32\\\\Lib\\\\site-packages\\\\flask\\\\app.py&quot;, line 2088, in __call__\\n    return self.wsgi_app(environ, start_response)\\n  File &quot;C:\\\\Users\\\\sri\\\\AppData\\\\Local\\\\Programs\\\\Python\\\\Python38-32\\\\Lib\\\\site-packages\\\\flask\\\\app.py&quot;, line 2073, in wsgi_app\\n    response = self.handle_exception(e)\\n  File &quot;C:\\\\Users\\\\sri\\\\AppData\\\\Local\\\\Programs\\\\Python\\\\Python38-32\\\\Lib\\\\site-packages\\\\flask\\\\app.py&quot;, line 2070, in wsgi_app\\n    response = self.full_dispatch_request()\\n  File &quot;C:\\\\Users\\\\sri\\\\AppData\\\\Local\\\\Programs\\\\Python\\\\Python38-32\\\\Lib\\\\site-packages\\\\flask\\\\app.py&quot;, line 1515, in full_dispatch_request\\n    rv = self.handle_user_exception(e)\\n  File &quot;C:\\\\Users\\\\sri\\\\AppData\\\\Local\\\\Programs\\\\Python\\\\Python38-32\\\\Lib\\\\site-packages\\\\flask\\\\app.py&quot;, line 1513, in full_dispatch_request\\n    rv = self.dispatch_request()\\n  File &quot;C:\\\\Users\\\\sri\\\\AppData\\\\Local\\\\Programs\\\\Python\\\\Python38-32\\\\Lib\\\\site-packages\\\\flask\\\\app.py&quot;, line 1499, in dispatch_request\\n    return self.ensure_sync(self.view_functions[rule.endpoint])(**req.view_args)\\n  File &quot;C:\\\\Users\\\\sri\\\\Desktop\\\\ML_Flask_App\\\\main.py&quot;, line 17, in predict\\n    predictions = predict_mpg(vehicle_config,model)\\n  File &quot;C:\\\\Users\\\\sri\\\\Desktop\\\\ML_Flask_App\\\\model_files\\\\ml_model.py&quot;, line 85, in predict_mpg\\n    preproc_df = preprocess_origin_cols(df)\\n  File &quot;C:\\\\Users\\\\sri\\\\Desktop\\\\ML_Flask_App\\\\model_files\\\\ml_model.py&quot;, line 17, in preprocess_origin_cols\\n    df[&quot;Origin&quot;] = df[&quot;Origin&quot;].map({1: &quot;India&quot;, 2: &quot;USA&quot;, 3: &quot;Germany&quot;})\\nTypeError: &#x27;method&#x27; object is not subscriptable</textarea>\\n</div>\\n<div class=\"explanation\">\\n  The debugger caught an exception in your WSGI application.  You can now\\n  look at the traceback which led to the error.  <span class=\"nojavascript\">\\n  If you enable JavaScript you can also use additional features such as code\\n  execution (if the evalex feature is enabled), automatic pasting of the\\n  exceptions and much more.</span>\\n</div>\\n      <div class=\"footer\">\\n        Brought to you by <strong class=\"arthur\">DON\\'T PANIC</strong>, your\\n        friendly Werkzeug powered traceback interpreter.\\n      </div>\\n    </div>\\n\\n    <div class=\"pin-prompt\">\\n      <div class=\"inner\">\\n        <h3>Console Locked</h3>\\n        <p>\\n          The console is locked and needs to be unlocked by entering the PIN.\\n          You can find the PIN printed out on the standard output of your\\n          shell that runs the server.\\n        <form>\\n          <p>PIN:\\n            <input type=text name=pin size=14>\\n            <input type=submit name=btn value=\"Confirm Pin\">\\n        </form>\\n      </div>\\n    </div>\\n  </body>\\n</html>\\n\\n<!--\\n\\nTraceback (most recent call last):\\n  File \"C:\\\\Users\\\\sri\\\\AppData\\\\Local\\\\Programs\\\\Python\\\\Python38-32\\\\Lib\\\\site-packages\\\\flask\\\\app.py\", line 2088, in __call__\\n    return self.wsgi_app(environ, start_response)\\n  File \"C:\\\\Users\\\\sri\\\\AppData\\\\Local\\\\Programs\\\\Python\\\\Python38-32\\\\Lib\\\\site-packages\\\\flask\\\\app.py\", line 2073, in wsgi_app\\n    response = self.handle_exception(e)\\n  File \"C:\\\\Users\\\\sri\\\\AppData\\\\Local\\\\Programs\\\\Python\\\\Python38-32\\\\Lib\\\\site-packages\\\\flask\\\\app.py\", line 2070, in wsgi_app\\n    response = self.full_dispatch_request()\\n  File \"C:\\\\Users\\\\sri\\\\AppData\\\\Local\\\\Programs\\\\Python\\\\Python38-32\\\\Lib\\\\site-packages\\\\flask\\\\app.py\", line 1515, in full_dispatch_request\\n    rv = self.handle_user_exception(e)\\n  File \"C:\\\\Users\\\\sri\\\\AppData\\\\Local\\\\Programs\\\\Python\\\\Python38-32\\\\Lib\\\\site-packages\\\\flask\\\\app.py\", line 1513, in full_dispatch_request\\n    rv = self.dispatch_request()\\n  File \"C:\\\\Users\\\\sri\\\\AppData\\\\Local\\\\Programs\\\\Python\\\\Python38-32\\\\Lib\\\\site-packages\\\\flask\\\\app.py\", line 1499, in dispatch_request\\n    return self.ensure_sync(self.view_functions[rule.endpoint])(**req.view_args)\\n  File \"C:\\\\Users\\\\sri\\\\Desktop\\\\ML_Flask_App\\\\main.py\", line 17, in predict\\n    predictions = predict_mpg(vehicle_config,model)\\n  File \"C:\\\\Users\\\\sri\\\\Desktop\\\\ML_Flask_App\\\\model_files\\\\ml_model.py\", line 85, in predict_mpg\\n    preproc_df = preprocess_origin_cols(df)\\n  File \"C:\\\\Users\\\\sri\\\\Desktop\\\\ML_Flask_App\\\\model_files\\\\ml_model.py\", line 17, in preprocess_origin_cols\\n    df[\"Origin\"] = df[\"Origin\"].map({1: \"India\", 2: \"USA\", 3: \"Germany\"})\\nTypeError: \\'method\\' object is not subscriptable\\n\\n-->'"
      ]
     },
     "metadata": {},
     "execution_count": 80
    }
   ],
   "metadata": {}
  },
  {
   "cell_type": "code",
   "execution_count": null,
   "source": [],
   "outputs": [],
   "metadata": {}
  },
  {
   "cell_type": "code",
   "execution_count": null,
   "source": [],
   "outputs": [],
   "metadata": {}
  },
  {
   "cell_type": "code",
   "execution_count": null,
   "source": [],
   "outputs": [],
   "metadata": {}
  },
  {
   "cell_type": "code",
   "execution_count": null,
   "source": [],
   "outputs": [],
   "metadata": {}
  },
  {
   "cell_type": "code",
   "execution_count": null,
   "source": [],
   "outputs": [],
   "metadata": {}
  }
 ],
 "metadata": {
  "orig_nbformat": 4,
  "language_info": {
   "name": "python",
   "version": "3.8.10",
   "mimetype": "text/x-python",
   "codemirror_mode": {
    "name": "ipython",
    "version": 3
   },
   "pygments_lexer": "ipython3",
   "nbconvert_exporter": "python",
   "file_extension": ".py"
  },
  "kernelspec": {
   "name": "python3",
   "display_name": "Python 3.8.10 32-bit"
  },
  "interpreter": {
   "hash": "7cf87445c26b1e9626b382eb846299811c44423ad269c8243122bce51722550d"
  }
 },
 "nbformat": 4,
 "nbformat_minor": 2
}
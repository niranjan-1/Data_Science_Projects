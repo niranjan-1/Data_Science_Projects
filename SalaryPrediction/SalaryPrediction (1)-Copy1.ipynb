{
 "cells": [
  {
   "cell_type": "code",
   "execution_count": 13,
   "source": [
    "import pandas as pd\r\n",
    "import numpy as np\r\n",
    "import matplotlib.pyplot as plt"
   ],
   "outputs": [],
   "metadata": {
    "id": "v6SJphsAasf6"
   }
  },
  {
   "cell_type": "code",
   "execution_count": 14,
   "source": [
    "df = pd.read_csv(r'C:\\Users\\sri\\Desktop\\MLapp\\survey_results_public.csv')"
   ],
   "outputs": [],
   "metadata": {
    "id": "a2J_S8GeaspX"
   }
  },
  {
   "cell_type": "code",
   "execution_count": 15,
   "source": [
    "df.head(2)"
   ],
   "outputs": [
    {
     "output_type": "execute_result",
     "data": {
      "text/html": [
       "<div>\n",
       "<style scoped>\n",
       "    .dataframe tbody tr th:only-of-type {\n",
       "        vertical-align: middle;\n",
       "    }\n",
       "\n",
       "    .dataframe tbody tr th {\n",
       "        vertical-align: top;\n",
       "    }\n",
       "\n",
       "    .dataframe thead th {\n",
       "        text-align: right;\n",
       "    }\n",
       "</style>\n",
       "<table border=\"1\" class=\"dataframe\">\n",
       "  <thead>\n",
       "    <tr style=\"text-align: right;\">\n",
       "      <th></th>\n",
       "      <th>Respondent</th>\n",
       "      <th>MainBranch</th>\n",
       "      <th>Hobbyist</th>\n",
       "      <th>Age</th>\n",
       "      <th>Age1stCode</th>\n",
       "      <th>CompFreq</th>\n",
       "      <th>CompTotal</th>\n",
       "      <th>ConvertedComp</th>\n",
       "      <th>Country</th>\n",
       "      <th>CurrencyDesc</th>\n",
       "      <th>...</th>\n",
       "      <th>SurveyEase</th>\n",
       "      <th>SurveyLength</th>\n",
       "      <th>Trans</th>\n",
       "      <th>UndergradMajor</th>\n",
       "      <th>WebframeDesireNextYear</th>\n",
       "      <th>WebframeWorkedWith</th>\n",
       "      <th>WelcomeChange</th>\n",
       "      <th>WorkWeekHrs</th>\n",
       "      <th>YearsCode</th>\n",
       "      <th>YearsCodePro</th>\n",
       "    </tr>\n",
       "  </thead>\n",
       "  <tbody>\n",
       "    <tr>\n",
       "      <th>0</th>\n",
       "      <td>1</td>\n",
       "      <td>I am a developer by profession</td>\n",
       "      <td>Yes</td>\n",
       "      <td>NaN</td>\n",
       "      <td>13</td>\n",
       "      <td>Monthly</td>\n",
       "      <td>NaN</td>\n",
       "      <td>NaN</td>\n",
       "      <td>Germany</td>\n",
       "      <td>European Euro</td>\n",
       "      <td>...</td>\n",
       "      <td>Neither easy nor difficult</td>\n",
       "      <td>Appropriate in length</td>\n",
       "      <td>No</td>\n",
       "      <td>Computer science, computer engineering, or sof...</td>\n",
       "      <td>ASP.NET Core</td>\n",
       "      <td>ASP.NET;ASP.NET Core</td>\n",
       "      <td>Just as welcome now as I felt last year</td>\n",
       "      <td>50.0</td>\n",
       "      <td>36</td>\n",
       "      <td>27</td>\n",
       "    </tr>\n",
       "    <tr>\n",
       "      <th>1</th>\n",
       "      <td>2</td>\n",
       "      <td>I am a developer by profession</td>\n",
       "      <td>No</td>\n",
       "      <td>NaN</td>\n",
       "      <td>19</td>\n",
       "      <td>NaN</td>\n",
       "      <td>NaN</td>\n",
       "      <td>NaN</td>\n",
       "      <td>United Kingdom</td>\n",
       "      <td>Pound sterling</td>\n",
       "      <td>...</td>\n",
       "      <td>NaN</td>\n",
       "      <td>NaN</td>\n",
       "      <td>NaN</td>\n",
       "      <td>Computer science, computer engineering, or sof...</td>\n",
       "      <td>NaN</td>\n",
       "      <td>NaN</td>\n",
       "      <td>Somewhat more welcome now than last year</td>\n",
       "      <td>NaN</td>\n",
       "      <td>7</td>\n",
       "      <td>4</td>\n",
       "    </tr>\n",
       "  </tbody>\n",
       "</table>\n",
       "<p>2 rows × 61 columns</p>\n",
       "</div>"
      ],
      "text/plain": [
       "   Respondent                      MainBranch Hobbyist  Age Age1stCode  \\\n",
       "0           1  I am a developer by profession      Yes  NaN         13   \n",
       "1           2  I am a developer by profession       No  NaN         19   \n",
       "\n",
       "  CompFreq  CompTotal  ConvertedComp         Country    CurrencyDesc  ...  \\\n",
       "0  Monthly        NaN            NaN         Germany   European Euro  ...   \n",
       "1      NaN        NaN            NaN  United Kingdom  Pound sterling  ...   \n",
       "\n",
       "                   SurveyEase           SurveyLength Trans  \\\n",
       "0  Neither easy nor difficult  Appropriate in length    No   \n",
       "1                         NaN                    NaN   NaN   \n",
       "\n",
       "                                      UndergradMajor WebframeDesireNextYear  \\\n",
       "0  Computer science, computer engineering, or sof...           ASP.NET Core   \n",
       "1  Computer science, computer engineering, or sof...                    NaN   \n",
       "\n",
       "     WebframeWorkedWith                             WelcomeChange WorkWeekHrs  \\\n",
       "0  ASP.NET;ASP.NET Core   Just as welcome now as I felt last year        50.0   \n",
       "1                   NaN  Somewhat more welcome now than last year         NaN   \n",
       "\n",
       "  YearsCode YearsCodePro  \n",
       "0        36           27  \n",
       "1         7            4  \n",
       "\n",
       "[2 rows x 61 columns]"
      ]
     },
     "metadata": {},
     "execution_count": 15
    }
   ],
   "metadata": {
    "colab": {
     "base_uri": "https://localhost:8080/",
     "height": 301
    },
    "id": "IWpml1UYassI",
    "outputId": "034dc7c1-1829-4cb5-ed56-d75cdceeda2d"
   }
  },
  {
   "cell_type": "code",
   "execution_count": 16,
   "source": [
    "df.shape"
   ],
   "outputs": [
    {
     "output_type": "execute_result",
     "data": {
      "text/plain": [
       "(64461, 61)"
      ]
     },
     "metadata": {},
     "execution_count": 16
    }
   ],
   "metadata": {
    "colab": {
     "base_uri": "https://localhost:8080/"
    },
    "id": "C1zwrU_Fasv7",
    "outputId": "658c8d51-a2e7-48ac-9eb9-93789071b643"
   }
  },
  {
   "cell_type": "code",
   "execution_count": 17,
   "source": [
    "df.columns"
   ],
   "outputs": [
    {
     "output_type": "execute_result",
     "data": {
      "text/plain": [
       "Index(['Respondent', 'MainBranch', 'Hobbyist', 'Age', 'Age1stCode', 'CompFreq',\n",
       "       'CompTotal', 'ConvertedComp', 'Country', 'CurrencyDesc',\n",
       "       'CurrencySymbol', 'DatabaseDesireNextYear', 'DatabaseWorkedWith',\n",
       "       'DevType', 'EdLevel', 'Employment', 'Ethnicity', 'Gender', 'JobFactors',\n",
       "       'JobSat', 'JobSeek', 'LanguageDesireNextYear', 'LanguageWorkedWith',\n",
       "       'MiscTechDesireNextYear', 'MiscTechWorkedWith',\n",
       "       'NEWCollabToolsDesireNextYear', 'NEWCollabToolsWorkedWith', 'NEWDevOps',\n",
       "       'NEWDevOpsImpt', 'NEWEdImpt', 'NEWJobHunt', 'NEWJobHuntResearch',\n",
       "       'NEWLearn', 'NEWOffTopic', 'NEWOnboardGood', 'NEWOtherComms',\n",
       "       'NEWOvertime', 'NEWPurchaseResearch', 'NEWPurpleLink', 'NEWSOSites',\n",
       "       'NEWStuck', 'OpSys', 'OrgSize', 'PlatformDesireNextYear',\n",
       "       'PlatformWorkedWith', 'PurchaseWhat', 'Sexuality', 'SOAccount',\n",
       "       'SOComm', 'SOPartFreq', 'SOVisitFreq', 'SurveyEase', 'SurveyLength',\n",
       "       'Trans', 'UndergradMajor', 'WebframeDesireNextYear',\n",
       "       'WebframeWorkedWith', 'WelcomeChange', 'WorkWeekHrs', 'YearsCode',\n",
       "       'YearsCodePro'],\n",
       "      dtype='object')"
      ]
     },
     "metadata": {},
     "execution_count": 17
    }
   ],
   "metadata": {
    "colab": {
     "base_uri": "https://localhost:8080/"
    },
    "id": "jSBYQ1eAaszO",
    "outputId": "0b041cbb-35d5-4a02-b21d-316d4e4ca151"
   }
  },
  {
   "cell_type": "code",
   "execution_count": 18,
   "source": [
    "df.dtypes"
   ],
   "outputs": [
    {
     "output_type": "execute_result",
     "data": {
      "text/plain": [
       "Respondent              int64\n",
       "MainBranch             object\n",
       "Hobbyist               object\n",
       "Age                   float64\n",
       "Age1stCode             object\n",
       "                       ...   \n",
       "WebframeWorkedWith     object\n",
       "WelcomeChange          object\n",
       "WorkWeekHrs           float64\n",
       "YearsCode              object\n",
       "YearsCodePro           object\n",
       "Length: 61, dtype: object"
      ]
     },
     "metadata": {},
     "execution_count": 18
    }
   ],
   "metadata": {
    "colab": {
     "base_uri": "https://localhost:8080/"
    },
    "id": "vDHwH9Nugu8W",
    "outputId": "34955374-77dd-47a1-f0de-848c136d93dc"
   }
  },
  {
   "cell_type": "code",
   "execution_count": 19,
   "source": [
    "df = df[[\"Country\", \"EdLevel\", \"YearsCodePro\", \"Employment\", \"ConvertedComp\"]]\r\n",
    "df = df.rename({\"ConvertedComp\": \"Salary\"}, axis=1)\r\n",
    "df.head()"
   ],
   "outputs": [
    {
     "output_type": "execute_result",
     "data": {
      "text/html": [
       "<div>\n",
       "<style scoped>\n",
       "    .dataframe tbody tr th:only-of-type {\n",
       "        vertical-align: middle;\n",
       "    }\n",
       "\n",
       "    .dataframe tbody tr th {\n",
       "        vertical-align: top;\n",
       "    }\n",
       "\n",
       "    .dataframe thead th {\n",
       "        text-align: right;\n",
       "    }\n",
       "</style>\n",
       "<table border=\"1\" class=\"dataframe\">\n",
       "  <thead>\n",
       "    <tr style=\"text-align: right;\">\n",
       "      <th></th>\n",
       "      <th>Country</th>\n",
       "      <th>EdLevel</th>\n",
       "      <th>YearsCodePro</th>\n",
       "      <th>Employment</th>\n",
       "      <th>Salary</th>\n",
       "    </tr>\n",
       "  </thead>\n",
       "  <tbody>\n",
       "    <tr>\n",
       "      <th>0</th>\n",
       "      <td>Germany</td>\n",
       "      <td>Master’s degree (M.A., M.S., M.Eng., MBA, etc.)</td>\n",
       "      <td>27</td>\n",
       "      <td>Independent contractor, freelancer, or self-em...</td>\n",
       "      <td>NaN</td>\n",
       "    </tr>\n",
       "    <tr>\n",
       "      <th>1</th>\n",
       "      <td>United Kingdom</td>\n",
       "      <td>Bachelor’s degree (B.A., B.S., B.Eng., etc.)</td>\n",
       "      <td>4</td>\n",
       "      <td>Employed full-time</td>\n",
       "      <td>NaN</td>\n",
       "    </tr>\n",
       "    <tr>\n",
       "      <th>2</th>\n",
       "      <td>Russian Federation</td>\n",
       "      <td>NaN</td>\n",
       "      <td>NaN</td>\n",
       "      <td>NaN</td>\n",
       "      <td>NaN</td>\n",
       "    </tr>\n",
       "    <tr>\n",
       "      <th>3</th>\n",
       "      <td>Albania</td>\n",
       "      <td>Master’s degree (M.A., M.S., M.Eng., MBA, etc.)</td>\n",
       "      <td>4</td>\n",
       "      <td>NaN</td>\n",
       "      <td>NaN</td>\n",
       "    </tr>\n",
       "    <tr>\n",
       "      <th>4</th>\n",
       "      <td>United States</td>\n",
       "      <td>Bachelor’s degree (B.A., B.S., B.Eng., etc.)</td>\n",
       "      <td>8</td>\n",
       "      <td>Employed full-time</td>\n",
       "      <td>NaN</td>\n",
       "    </tr>\n",
       "  </tbody>\n",
       "</table>\n",
       "</div>"
      ],
      "text/plain": [
       "              Country                                          EdLevel  \\\n",
       "0             Germany  Master’s degree (M.A., M.S., M.Eng., MBA, etc.)   \n",
       "1      United Kingdom     Bachelor’s degree (B.A., B.S., B.Eng., etc.)   \n",
       "2  Russian Federation                                              NaN   \n",
       "3             Albania  Master’s degree (M.A., M.S., M.Eng., MBA, etc.)   \n",
       "4       United States     Bachelor’s degree (B.A., B.S., B.Eng., etc.)   \n",
       "\n",
       "  YearsCodePro                                         Employment  Salary  \n",
       "0           27  Independent contractor, freelancer, or self-em...     NaN  \n",
       "1            4                                 Employed full-time     NaN  \n",
       "2          NaN                                                NaN     NaN  \n",
       "3            4                                                NaN     NaN  \n",
       "4            8                                 Employed full-time     NaN  "
      ]
     },
     "metadata": {},
     "execution_count": 19
    }
   ],
   "metadata": {
    "colab": {
     "base_uri": "https://localhost:8080/",
     "height": 289
    },
    "id": "b055dyQsas16",
    "outputId": "13a4af9c-dfae-4c3d-e0ae-19aef6a38fe9"
   }
  },
  {
   "cell_type": "code",
   "execution_count": 20,
   "source": [
    "df = df[df['Salary'].notnull()]\r\n",
    "df.head()"
   ],
   "outputs": [
    {
     "output_type": "execute_result",
     "data": {
      "text/html": [
       "<div>\n",
       "<style scoped>\n",
       "    .dataframe tbody tr th:only-of-type {\n",
       "        vertical-align: middle;\n",
       "    }\n",
       "\n",
       "    .dataframe tbody tr th {\n",
       "        vertical-align: top;\n",
       "    }\n",
       "\n",
       "    .dataframe thead th {\n",
       "        text-align: right;\n",
       "    }\n",
       "</style>\n",
       "<table border=\"1\" class=\"dataframe\">\n",
       "  <thead>\n",
       "    <tr style=\"text-align: right;\">\n",
       "      <th></th>\n",
       "      <th>Country</th>\n",
       "      <th>EdLevel</th>\n",
       "      <th>YearsCodePro</th>\n",
       "      <th>Employment</th>\n",
       "      <th>Salary</th>\n",
       "    </tr>\n",
       "  </thead>\n",
       "  <tbody>\n",
       "    <tr>\n",
       "      <th>7</th>\n",
       "      <td>United States</td>\n",
       "      <td>Bachelor’s degree (B.A., B.S., B.Eng., etc.)</td>\n",
       "      <td>13</td>\n",
       "      <td>Employed full-time</td>\n",
       "      <td>116000.0</td>\n",
       "    </tr>\n",
       "    <tr>\n",
       "      <th>9</th>\n",
       "      <td>United Kingdom</td>\n",
       "      <td>Master’s degree (M.A., M.S., M.Eng., MBA, etc.)</td>\n",
       "      <td>4</td>\n",
       "      <td>Employed full-time</td>\n",
       "      <td>32315.0</td>\n",
       "    </tr>\n",
       "    <tr>\n",
       "      <th>10</th>\n",
       "      <td>United Kingdom</td>\n",
       "      <td>Bachelor’s degree (B.A., B.S., B.Eng., etc.)</td>\n",
       "      <td>2</td>\n",
       "      <td>Employed full-time</td>\n",
       "      <td>40070.0</td>\n",
       "    </tr>\n",
       "    <tr>\n",
       "      <th>11</th>\n",
       "      <td>Spain</td>\n",
       "      <td>Some college/university study without earning ...</td>\n",
       "      <td>7</td>\n",
       "      <td>Employed full-time</td>\n",
       "      <td>14268.0</td>\n",
       "    </tr>\n",
       "    <tr>\n",
       "      <th>12</th>\n",
       "      <td>Netherlands</td>\n",
       "      <td>Secondary school (e.g. American high school, G...</td>\n",
       "      <td>20</td>\n",
       "      <td>Employed full-time</td>\n",
       "      <td>38916.0</td>\n",
       "    </tr>\n",
       "  </tbody>\n",
       "</table>\n",
       "</div>"
      ],
      "text/plain": [
       "           Country                                            EdLevel  \\\n",
       "7    United States       Bachelor’s degree (B.A., B.S., B.Eng., etc.)   \n",
       "9   United Kingdom    Master’s degree (M.A., M.S., M.Eng., MBA, etc.)   \n",
       "10  United Kingdom       Bachelor’s degree (B.A., B.S., B.Eng., etc.)   \n",
       "11           Spain  Some college/university study without earning ...   \n",
       "12     Netherlands  Secondary school (e.g. American high school, G...   \n",
       "\n",
       "   YearsCodePro          Employment    Salary  \n",
       "7            13  Employed full-time  116000.0  \n",
       "9             4  Employed full-time   32315.0  \n",
       "10            2  Employed full-time   40070.0  \n",
       "11            7  Employed full-time   14268.0  \n",
       "12           20  Employed full-time   38916.0  "
      ]
     },
     "metadata": {},
     "execution_count": 20
    }
   ],
   "metadata": {
    "colab": {
     "base_uri": "https://localhost:8080/",
     "height": 204
    },
    "id": "Mz0Jclm5alTQ",
    "outputId": "ca373ce6-feb0-44c3-a387-4039237d6f00"
   }
  },
  {
   "cell_type": "code",
   "execution_count": 21,
   "source": [
    "df.info()"
   ],
   "outputs": [
    {
     "output_type": "stream",
     "name": "stdout",
     "text": [
      "<class 'pandas.core.frame.DataFrame'>\n",
      "Int64Index: 34756 entries, 7 to 64154\n",
      "Data columns (total 5 columns):\n",
      " #   Column        Non-Null Count  Dtype  \n",
      "---  ------        --------------  -----  \n",
      " 0   Country       34756 non-null  object \n",
      " 1   EdLevel       34188 non-null  object \n",
      " 2   YearsCodePro  34621 non-null  object \n",
      " 3   Employment    34717 non-null  object \n",
      " 4   Salary        34756 non-null  float64\n",
      "dtypes: float64(1), object(4)\n",
      "memory usage: 1.1+ MB\n"
     ]
    }
   ],
   "metadata": {
    "colab": {
     "base_uri": "https://localhost:8080/"
    },
    "id": "lYaSav-PalV2",
    "outputId": "0c0d6ab1-e22a-434d-9755-8885bb36ca3e"
   }
  },
  {
   "cell_type": "code",
   "execution_count": 22,
   "source": [
    "df = df.dropna()\r\n",
    "df.isnull().sum()"
   ],
   "outputs": [
    {
     "output_type": "execute_result",
     "data": {
      "text/plain": [
       "Country         0\n",
       "EdLevel         0\n",
       "YearsCodePro    0\n",
       "Employment      0\n",
       "Salary          0\n",
       "dtype: int64"
      ]
     },
     "metadata": {},
     "execution_count": 22
    }
   ],
   "metadata": {
    "colab": {
     "base_uri": "https://localhost:8080/"
    },
    "id": "zTNs4v3_alb9",
    "outputId": "7bce00fe-c197-44b9-8dd1-eccdd9107b6c"
   }
  },
  {
   "cell_type": "code",
   "execution_count": 23,
   "source": [
    "df.shape"
   ],
   "outputs": [
    {
     "output_type": "execute_result",
     "data": {
      "text/plain": [
       "(34025, 5)"
      ]
     },
     "metadata": {},
     "execution_count": 23
    }
   ],
   "metadata": {
    "colab": {
     "base_uri": "https://localhost:8080/"
    },
    "id": "grZxuETCalej",
    "outputId": "ba9e42c8-7816-44e0-81d8-9c957597aacf"
   }
  },
  {
   "cell_type": "code",
   "execution_count": 24,
   "source": [
    "df = df[df[\"Employment\"] == \"Employed full-time\"]\r\n",
    "df = df.drop(\"Employment\", axis=1)\r\n",
    "df.info()"
   ],
   "outputs": [
    {
     "output_type": "stream",
     "name": "stdout",
     "text": [
      "<class 'pandas.core.frame.DataFrame'>\n",
      "Int64Index: 30019 entries, 7 to 64154\n",
      "Data columns (total 4 columns):\n",
      " #   Column        Non-Null Count  Dtype  \n",
      "---  ------        --------------  -----  \n",
      " 0   Country       30019 non-null  object \n",
      " 1   EdLevel       30019 non-null  object \n",
      " 2   YearsCodePro  30019 non-null  object \n",
      " 3   Salary        30019 non-null  float64\n",
      "dtypes: float64(1), object(3)\n",
      "memory usage: 820.8+ KB\n"
     ]
    }
   ],
   "metadata": {
    "colab": {
     "base_uri": "https://localhost:8080/"
    },
    "id": "U_N01FPJalhM",
    "outputId": "532e1ccd-0fca-4728-ce28-bc0957fe4a22"
   }
  },
  {
   "cell_type": "code",
   "execution_count": 25,
   "source": [
    "df['Country'].value_counts()"
   ],
   "outputs": [
    {
     "output_type": "execute_result",
     "data": {
      "text/plain": [
       "United States     7569\n",
       "India             2425\n",
       "United Kingdom    2287\n",
       "Germany           1903\n",
       "Canada            1178\n",
       "                  ... \n",
       "Benin                1\n",
       "Fiji                 1\n",
       "San Marino           1\n",
       "Guinea               1\n",
       "Andorra              1\n",
       "Name: Country, Length: 154, dtype: int64"
      ]
     },
     "metadata": {},
     "execution_count": 25
    }
   ],
   "metadata": {
    "colab": {
     "base_uri": "https://localhost:8080/"
    },
    "id": "eKku6ho_iFlr",
    "outputId": "25d33b7d-a447-4c9e-82e0-396cae114b66"
   }
  },
  {
   "cell_type": "code",
   "execution_count": 26,
   "source": [
    "def shorten_categories(categories, cutoff):\r\n",
    "    categorical_map = {}\r\n",
    "    for i in range(len(categories)):\r\n",
    "        if categories.values[i] >= cutoff:\r\n",
    "            categorical_map[categories.index[i]] = categories.index[i]\r\n",
    "        else:\r\n",
    "            categorical_map[categories.index[i]] = 'Other'\r\n",
    "    return categorical_map"
   ],
   "outputs": [],
   "metadata": {
    "id": "SoczROLsiFoi"
   }
  },
  {
   "cell_type": "code",
   "execution_count": 27,
   "source": [
    "country_map = shorten_categories(df.Country.value_counts(), 400)\r\n",
    "df['Country'] = df['Country'].map(country_map)\r\n",
    "df.Country.value_counts()"
   ],
   "outputs": [
    {
     "output_type": "execute_result",
     "data": {
      "text/plain": [
       "Other                 8549\n",
       "United States         7569\n",
       "India                 2425\n",
       "United Kingdom        2287\n",
       "Germany               1903\n",
       "Canada                1178\n",
       "Brazil                 991\n",
       "France                 972\n",
       "Spain                  670\n",
       "Australia              659\n",
       "Netherlands            654\n",
       "Poland                 566\n",
       "Italy                  560\n",
       "Russian Federation     522\n",
       "Sweden                 514\n",
       "Name: Country, dtype: int64"
      ]
     },
     "metadata": {},
     "execution_count": 27
    }
   ],
   "metadata": {
    "colab": {
     "base_uri": "https://localhost:8080/"
    },
    "id": "fYpX3NLgiFrs",
    "outputId": "38094bcb-d93f-4aae-f3a4-5d6a92796ce0"
   }
  },
  {
   "cell_type": "code",
   "execution_count": 28,
   "source": [
    "fig, ax = plt.subplots(1,1,figsize=(12,7))\r\n",
    "df.boxplot('Salary','Country',ax=ax)\r\n",
    "plt.suptitle('Salary (US$) vs Country')\r\n",
    "plt.title('')\r\n",
    "plt.ylabel('salary')\r\n",
    "plt.xticks(rotation=90)\r\n",
    "plt.show()"
   ],
   "outputs": [
    {
     "output_type": "display_data",
     "data": {
      "image/png": "[encoded data removed]",
      "text/plain": [
       "<Figure size 864x504 with 1 Axes>"
      ]
     },
     "metadata": {
      "needs_background": "light"
     }
    }
   ],
   "metadata": {
    "colab": {
     "base_uri": "https://localhost:8080/",
     "height": 592
    },
    "id": "9RIMpyE4iFuv",
    "outputId": "11a9266b-1a36-4029-8135-6799e15e1fb8"
   }
  },
  {
   "cell_type": "markdown",
   "source": [
    "The Above Graph shows the outliers and none of them exceeds above 0.25, so we need to eliminate the outliers increase the performance of our model."
   ],
   "metadata": {
    "id": "G0GYwOVYqXJF"
   }
  },
  {
   "cell_type": "code",
   "execution_count": 29,
   "source": [
    "df = df[df['Salary'] <= 250000]\r\n",
    "df = df[df['Salary'] >= 10000]\r\n",
    "df = df[df['Country'] != 'Other']"
   ],
   "outputs": [],
   "metadata": {
    "id": "ow92gjSDiGMY"
   }
  },
  {
   "cell_type": "code",
   "execution_count": 30,
   "source": [
    "df.shape"
   ],
   "outputs": [
    {
     "output_type": "execute_result",
     "data": {
      "text/plain": [
       "(18491, 4)"
      ]
     },
     "metadata": {},
     "execution_count": 30
    }
   ],
   "metadata": {
    "colab": {
     "base_uri": "https://localhost:8080/"
    },
    "id": "SciL3mTLiGOw",
    "outputId": "e2ff9af2-5a56-428b-eb57-24d693a04034"
   }
  },
  {
   "cell_type": "markdown",
   "source": [
    "Now let's check again, how our data looks"
   ],
   "metadata": {
    "id": "Mr4ZUoC9rXgg"
   }
  },
  {
   "cell_type": "code",
   "execution_count": 31,
   "source": [
    "fig, ax = plt.subplots(1,1,figsize=(12,7))\r\n",
    "df.boxplot('Salary','Country',ax=ax)\r\n",
    "plt.suptitle('Salary (US$) vs Country')\r\n",
    "plt.title('')\r\n",
    "plt.ylabel('salary')\r\n",
    "plt.xticks(rotation=90)\r\n",
    "plt.show()"
   ],
   "outputs": [
    {
     "output_type": "display_data",
     "data": {
      "image/png": "[encoded data removed]",
      "text/plain": [
       "<Figure size 864x504 with 1 Axes>"
      ]
     },
     "metadata": {
      "needs_background": "light"
     }
    }
   ],
   "metadata": {
    "colab": {
     "base_uri": "https://localhost:8080/",
     "height": 538
    },
    "id": "1QsgZGUSiGRf",
    "outputId": "7a85ea58-e7e7-40b8-d77e-7e999c9c7656"
   }
  },
  {
   "cell_type": "code",
   "execution_count": 32,
   "source": [
    "df['YearsCodePro'].unique()"
   ],
   "outputs": [
    {
     "output_type": "execute_result",
     "data": {
      "text/plain": [
       "array(['13', '4', '2', '7', '20', '1', '3', '10', '12', '29', '6', '28',\n",
       "       '8', '23', '15', '25', '9', '11', 'Less than 1 year', '5', '21',\n",
       "       '16', '18', '14', '32', '19', '22', '38', '30', '26', '27', '17',\n",
       "       '24', '34', '35', '33', '36', '40', '39', 'More than 50 years',\n",
       "       '31', '37', '41', '45', '42', '44', '43', '50', '49'], dtype=object)"
      ]
     },
     "metadata": {},
     "execution_count": 32
    }
   ],
   "metadata": {
    "colab": {
     "base_uri": "https://localhost:8080/"
    },
    "id": "rNoPdurMiGU1",
    "outputId": "0a0c782a-c463-4f9b-d1a7-583a815beb6f"
   }
  },
  {
   "cell_type": "code",
   "execution_count": 33,
   "source": [
    "#Let's Clean the data\r\n",
    "def clean_experience(x):\r\n",
    "  if x == 'More than 50 years':\r\n",
    "    return 50\r\n",
    "  if x == 'Less than 1 year':\r\n",
    "    return 0.5\r\n",
    "  return float(x)"
   ],
   "outputs": [],
   "metadata": {
    "id": "YMlCBjubiGX8"
   }
  },
  {
   "cell_type": "code",
   "execution_count": 34,
   "source": [
    "df['YearsCodePro'] = df['YearsCodePro'].apply(clean_experience)"
   ],
   "outputs": [],
   "metadata": {
    "id": "Sh43H6i9iGas"
   }
  },
  {
   "cell_type": "code",
   "execution_count": 35,
   "source": [
    "df['YearsCodePro'].dtype"
   ],
   "outputs": [
    {
     "output_type": "execute_result",
     "data": {
      "text/plain": [
       "dtype('float64')"
      ]
     },
     "metadata": {},
     "execution_count": 35
    }
   ],
   "metadata": {
    "colab": {
     "base_uri": "https://localhost:8080/"
    },
    "id": "6NtrA_OZiGdK",
    "outputId": "6cfd0dea-e285-42c9-8bb5-f35d1479a43c"
   }
  },
  {
   "cell_type": "code",
   "execution_count": 36,
   "source": [
    "df['EdLevel'].unique()"
   ],
   "outputs": [
    {
     "output_type": "execute_result",
     "data": {
      "text/plain": [
       "array(['Bachelor’s degree (B.A., B.S., B.Eng., etc.)',\n",
       "       'Master’s degree (M.A., M.S., M.Eng., MBA, etc.)',\n",
       "       'Some college/university study without earning a degree',\n",
       "       'Secondary school (e.g. American high school, German Realschule or Gymnasium, etc.)',\n",
       "       'Associate degree (A.A., A.S., etc.)',\n",
       "       'Professional degree (JD, MD, etc.)',\n",
       "       'Other doctoral degree (Ph.D., Ed.D., etc.)',\n",
       "       'I never completed any formal education',\n",
       "       'Primary/elementary school'], dtype=object)"
      ]
     },
     "metadata": {},
     "execution_count": 36
    }
   ],
   "metadata": {
    "colab": {
     "base_uri": "https://localhost:8080/"
    },
    "id": "9OsnXI4CiETp",
    "outputId": "70f2a197-bbbf-4351-854b-25369ed3a3e3"
   }
  },
  {
   "cell_type": "code",
   "execution_count": 37,
   "source": [
    "# Lets Clean Education Column\r\n",
    "def clean_education(x):\r\n",
    "  if 'Bachelor’s degree' in x:\r\n",
    "    return 'Bachelor’s degree'\r\n",
    "  if 'Master’s degree' in x:\r\n",
    "    return 'Master’s degree'\r\n",
    "  if 'Professional degree' in x or 'Other doctoral degree' in x:\r\n",
    "    return 'Post grad'\r\n",
    "  return 'Less than a Bachelor'"
   ],
   "outputs": [],
   "metadata": {
    "id": "2SfZe6t-iEW1"
   }
  },
  {
   "cell_type": "code",
   "execution_count": 38,
   "source": [
    "df['EdLevel'] = df['EdLevel'].apply(clean_education)"
   ],
   "outputs": [],
   "metadata": {
    "id": "i7Im6KV-iEai"
   }
  },
  {
   "cell_type": "code",
   "execution_count": 39,
   "source": [
    "df['EdLevel'].unique()"
   ],
   "outputs": [
    {
     "output_type": "execute_result",
     "data": {
      "text/plain": [
       "array(['Bachelor’s degree', 'Master’s degree', 'Less than a Bachelor',\n",
       "       'Post grad'], dtype=object)"
      ]
     },
     "metadata": {},
     "execution_count": 39
    }
   ],
   "metadata": {
    "colab": {
     "base_uri": "https://localhost:8080/"
    },
    "id": "PHG9lJg0iEfg",
    "outputId": "76642bf4-cf7b-4d5b-b394-76b947281937"
   }
  },
  {
   "cell_type": "code",
   "execution_count": 40,
   "source": [
    "df['EdLevel'].value_counts()"
   ],
   "outputs": [
    {
     "output_type": "execute_result",
     "data": {
      "text/plain": [
       "Bachelor’s degree       9144\n",
       "Master’s degree         4821\n",
       "Less than a Bachelor    3557\n",
       "Post grad                969\n",
       "Name: EdLevel, dtype: int64"
      ]
     },
     "metadata": {},
     "execution_count": 40
    }
   ],
   "metadata": {
    "colab": {
     "base_uri": "https://localhost:8080/"
    },
    "id": "k2YT4PP3iEjb",
    "outputId": "4d82e932-4bc7-433e-9733-94ed2e987938"
   }
  },
  {
   "cell_type": "code",
   "execution_count": 41,
   "source": [
    "from sklearn.preprocessing import LabelEncoder\r\n",
    "le_education = LabelEncoder()\r\n",
    "df['EdLevel'] = le_education.fit_transform(df['EdLevel'])"
   ],
   "outputs": [],
   "metadata": {
    "id": "QByg38MouMbu"
   }
  },
  {
   "cell_type": "code",
   "execution_count": 42,
   "source": [
    "df['EdLevel'].unique()"
   ],
   "outputs": [
    {
     "output_type": "execute_result",
     "data": {
      "text/plain": [
       "array([0, 2, 1, 3])"
      ]
     },
     "metadata": {},
     "execution_count": 42
    }
   ],
   "metadata": {
    "colab": {
     "base_uri": "https://localhost:8080/"
    },
    "id": "rnsknUEbuMep",
    "outputId": "dfa59a35-aa6d-4cf8-ef17-dac9ce44f8ba"
   }
  },
  {
   "cell_type": "code",
   "execution_count": 43,
   "source": [
    "le_country = LabelEncoder()\r\n",
    "df['Country'] = le_country.fit_transform(df['Country'])"
   ],
   "outputs": [],
   "metadata": {
    "id": "VeUOEgP3uMi_"
   }
  },
  {
   "cell_type": "code",
   "execution_count": 44,
   "source": [
    "df['Country'].unique()"
   ],
   "outputs": [
    {
     "output_type": "execute_result",
     "data": {
      "text/plain": [
       "array([13, 12, 10,  7,  4,  2,  6,  1,  3,  5, 11,  8,  0,  9])"
      ]
     },
     "metadata": {},
     "execution_count": 44
    }
   ],
   "metadata": {
    "colab": {
     "base_uri": "https://localhost:8080/"
    },
    "id": "SIx_b5kfuMoh",
    "outputId": "e0508819-74e0-4da2-be54-22009a7e6397"
   }
  },
  {
   "cell_type": "code",
   "execution_count": 45,
   "source": [
    "df.columns"
   ],
   "outputs": [
    {
     "output_type": "execute_result",
     "data": {
      "text/plain": [
       "Index(['Country', 'EdLevel', 'YearsCodePro', 'Salary'], dtype='object')"
      ]
     },
     "metadata": {},
     "execution_count": 45
    }
   ],
   "metadata": {
    "colab": {
     "base_uri": "https://localhost:8080/"
    },
    "id": "Nkw0yI21uMtC",
    "outputId": "39aaf356-ad4c-4cc0-f524-94a46b12d7a6"
   }
  },
  {
   "cell_type": "markdown",
   "source": [
    "Now the data Cleaning and transforming  has been ended, let's build the model"
   ],
   "metadata": {
    "id": "ajp37Z_Lv-rO"
   }
  },
  {
   "cell_type": "code",
   "execution_count": 46,
   "source": [
    "x = df.drop('Salary',axis=1)\r\n",
    "y = df['Salary']"
   ],
   "outputs": [],
   "metadata": {
    "id": "yWvr4Jx-uMwt"
   }
  },
  {
   "cell_type": "code",
   "execution_count": 47,
   "source": [
    "from sklearn.linear_model import LinearRegression\r\n",
    "linear_reg = LinearRegression()\r\n",
    "linear_reg.fit(x,y.values)"
   ],
   "outputs": [
    {
     "output_type": "execute_result",
     "data": {
      "text/plain": [
       "LinearRegression()"
      ]
     },
     "metadata": {},
     "execution_count": 47
    }
   ],
   "metadata": {
    "colab": {
     "base_uri": "https://localhost:8080/"
    },
    "id": "sQqAtwxguM0m",
    "outputId": "77c4ce5a-59d1-4166-bedd-08dbd2f15602"
   }
  },
  {
   "cell_type": "code",
   "execution_count": 48,
   "source": [
    "y_pred = linear_reg.predict(x)"
   ],
   "outputs": [],
   "metadata": {
    "id": "cM1nMaNSuM3v"
   }
  },
  {
   "cell_type": "code",
   "execution_count": 49,
   "source": [
    "from sklearn.metrics import mean_squared_error, mean_absolute_error\r\n",
    "import numpy as np\r\n",
    "error = np.sqrt(mean_squared_error(y,y_pred))"
   ],
   "outputs": [],
   "metadata": {
    "id": "cT6jrU1xuM76"
   }
  },
  {
   "cell_type": "code",
   "execution_count": 50,
   "source": [
    "error"
   ],
   "outputs": [
    {
     "output_type": "execute_result",
     "data": {
      "text/plain": [
       "39274.75368318509"
      ]
     },
     "metadata": {},
     "execution_count": 50
    }
   ],
   "metadata": {
    "colab": {
     "base_uri": "https://localhost:8080/"
    },
    "id": "6Lecllz_uM_l",
    "outputId": "f7bfaf8c-4f32-411d-bae5-c937c4d2a9cd"
   }
  },
  {
   "cell_type": "code",
   "execution_count": 51,
   "source": [
    "from sklearn.tree import DecisionTreeRegressor\r\n",
    "dec_tree_reg = DecisionTreeRegressor(random_state=0)\r\n",
    "dec_tree_reg.fit(x,y.values)"
   ],
   "outputs": [
    {
     "output_type": "execute_result",
     "data": {
      "text/plain": [
       "DecisionTreeRegressor(random_state=0)"
      ]
     },
     "metadata": {},
     "execution_count": 51
    }
   ],
   "metadata": {
    "colab": {
     "base_uri": "https://localhost:8080/"
    },
    "id": "05Al63rwuNCi",
    "outputId": "c54e4f5b-545a-4c5b-939e-24c1684b116c"
   }
  },
  {
   "cell_type": "code",
   "execution_count": 52,
   "source": [
    "y_pred = dec_tree_reg.predict(x)"
   ],
   "outputs": [],
   "metadata": {
    "id": "YIZ9Q3KGuNFP"
   }
  },
  {
   "cell_type": "code",
   "execution_count": 53,
   "source": [
    "error = np.sqrt(mean_squared_error(y,y_pred))\r\n",
    "print('${:,.02f}'.format(error))"
   ],
   "outputs": [
    {
     "output_type": "stream",
     "name": "stdout",
     "text": [
      "$29,414.94\n"
     ]
    }
   ],
   "metadata": {
    "colab": {
     "base_uri": "https://localhost:8080/"
    },
    "id": "g5ZWQPw3uNIE",
    "outputId": "4f27819b-353a-45a8-e522-40edfb129cba"
   }
  },
  {
   "cell_type": "code",
   "execution_count": 54,
   "source": [
    "from sklearn.ensemble import RandomForestRegressor\r\n",
    "random_forest_reg = RandomForestRegressor(random_state=0)\r\n",
    "random_forest_reg.fit(x, y.values)"
   ],
   "outputs": [
    {
     "output_type": "execute_result",
     "data": {
      "text/plain": [
       "RandomForestRegressor(random_state=0)"
      ]
     },
     "metadata": {},
     "execution_count": 54
    }
   ],
   "metadata": {
    "colab": {
     "base_uri": "https://localhost:8080/"
    },
    "id": "yh6EjhZluNKj",
    "outputId": "96643109-83c2-4476-ec73-2ad817fd6cbf"
   }
  },
  {
   "cell_type": "code",
   "execution_count": 55,
   "source": [
    "y_pred = random_forest_reg.predict(x)"
   ],
   "outputs": [],
   "metadata": {
    "id": "pr8R3qcauNM7"
   }
  },
  {
   "cell_type": "code",
   "execution_count": 56,
   "source": [
    "error = np.sqrt(mean_squared_error(y,y_pred))\r\n",
    "print('${:,.02f}'.format(error))"
   ],
   "outputs": [
    {
     "output_type": "stream",
     "name": "stdout",
     "text": [
      "$29,487.31\n"
     ]
    }
   ],
   "metadata": {
    "colab": {
     "base_uri": "https://localhost:8080/"
    },
    "id": "Bs2l0L1YiEnT",
    "outputId": "0a8575a9-48c5-43f4-923f-484e51fcc9e8"
   }
  },
  {
   "cell_type": "markdown",
   "source": [
    "We can use GridSearchCV for finding the best fit!"
   ],
   "metadata": {
    "id": "AJzgCESt0Sq4"
   }
  },
  {
   "cell_type": "code",
   "execution_count": 57,
   "source": [
    "from sklearn.model_selection import GridSearchCV\r\n",
    "\r\n",
    "max_depth = [None,2,4,6,8,10,12]\r\n",
    "parameters = {'max_depth': max_depth}\r\n",
    "\r\n",
    "regressor = DecisionTreeRegressor(random_state=0)\r\n",
    "gs = GridSearchCV(regressor, parameters, scoring='neg_mean_squared_error')\r\n",
    "gs.fit(x,y.values)"
   ],
   "outputs": [
    {
     "output_type": "execute_result",
     "data": {
      "text/plain": [
       "GridSearchCV(estimator=DecisionTreeRegressor(random_state=0),\n",
       "             param_grid={'max_depth': [None, 2, 4, 6, 8, 10, 12]},\n",
       "             scoring='neg_mean_squared_error')"
      ]
     },
     "metadata": {},
     "execution_count": 57
    }
   ],
   "metadata": {
    "colab": {
     "base_uri": "https://localhost:8080/"
    },
    "id": "XbaUx3h3yuWn",
    "outputId": "3e2b875c-ee54-4c8f-b1af-39dccc470460"
   }
  },
  {
   "cell_type": "code",
   "execution_count": 58,
   "source": [
    "regressor = gs.best_estimator_\r\n",
    "\r\n",
    "regressor.fit(x,y.values)\r\n",
    "y_pred = regressor.predict(x)\r\n",
    "error = np.sqrt(mean_squared_error(y,y_pred))\r\n",
    "print('${:,.02f}'.format(error))"
   ],
   "outputs": [
    {
     "output_type": "stream",
     "name": "stdout",
     "text": [
      "$30,428.51\n"
     ]
    }
   ],
   "metadata": {
    "colab": {
     "base_uri": "https://localhost:8080/"
    },
    "id": "AC_lmhP0yubq",
    "outputId": "4115e63c-46b2-4ea8-8c60-ab375a7aa3f1"
   }
  },
  {
   "cell_type": "code",
   "execution_count": 59,
   "source": [
    "x"
   ],
   "outputs": [
    {
     "output_type": "execute_result",
     "data": {
      "text/html": [
       "<div>\n",
       "<style scoped>\n",
       "    .dataframe tbody tr th:only-of-type {\n",
       "        vertical-align: middle;\n",
       "    }\n",
       "\n",
       "    .dataframe tbody tr th {\n",
       "        vertical-align: top;\n",
       "    }\n",
       "\n",
       "    .dataframe thead th {\n",
       "        text-align: right;\n",
       "    }\n",
       "</style>\n",
       "<table border=\"1\" class=\"dataframe\">\n",
       "  <thead>\n",
       "    <tr style=\"text-align: right;\">\n",
       "      <th></th>\n",
       "      <th>Country</th>\n",
       "      <th>EdLevel</th>\n",
       "      <th>YearsCodePro</th>\n",
       "    </tr>\n",
       "  </thead>\n",
       "  <tbody>\n",
       "    <tr>\n",
       "      <th>7</th>\n",
       "      <td>13</td>\n",
       "      <td>0</td>\n",
       "      <td>13.0</td>\n",
       "    </tr>\n",
       "    <tr>\n",
       "      <th>9</th>\n",
       "      <td>12</td>\n",
       "      <td>2</td>\n",
       "      <td>4.0</td>\n",
       "    </tr>\n",
       "    <tr>\n",
       "      <th>10</th>\n",
       "      <td>12</td>\n",
       "      <td>0</td>\n",
       "      <td>2.0</td>\n",
       "    </tr>\n",
       "    <tr>\n",
       "      <th>11</th>\n",
       "      <td>10</td>\n",
       "      <td>1</td>\n",
       "      <td>7.0</td>\n",
       "    </tr>\n",
       "    <tr>\n",
       "      <th>12</th>\n",
       "      <td>7</td>\n",
       "      <td>1</td>\n",
       "      <td>20.0</td>\n",
       "    </tr>\n",
       "    <tr>\n",
       "      <th>...</th>\n",
       "      <td>...</td>\n",
       "      <td>...</td>\n",
       "      <td>...</td>\n",
       "    </tr>\n",
       "    <tr>\n",
       "      <th>64113</th>\n",
       "      <td>13</td>\n",
       "      <td>1</td>\n",
       "      <td>15.0</td>\n",
       "    </tr>\n",
       "    <tr>\n",
       "      <th>64116</th>\n",
       "      <td>13</td>\n",
       "      <td>0</td>\n",
       "      <td>6.0</td>\n",
       "    </tr>\n",
       "    <tr>\n",
       "      <th>64122</th>\n",
       "      <td>13</td>\n",
       "      <td>1</td>\n",
       "      <td>4.0</td>\n",
       "    </tr>\n",
       "    <tr>\n",
       "      <th>64127</th>\n",
       "      <td>13</td>\n",
       "      <td>3</td>\n",
       "      <td>12.0</td>\n",
       "    </tr>\n",
       "    <tr>\n",
       "      <th>64129</th>\n",
       "      <td>13</td>\n",
       "      <td>2</td>\n",
       "      <td>4.0</td>\n",
       "    </tr>\n",
       "  </tbody>\n",
       "</table>\n",
       "<p>18491 rows × 3 columns</p>\n",
       "</div>"
      ],
      "text/plain": [
       "       Country  EdLevel  YearsCodePro\n",
       "7           13        0          13.0\n",
       "9           12        2           4.0\n",
       "10          12        0           2.0\n",
       "11          10        1           7.0\n",
       "12           7        1          20.0\n",
       "...        ...      ...           ...\n",
       "64113       13        1          15.0\n",
       "64116       13        0           6.0\n",
       "64122       13        1           4.0\n",
       "64127       13        3          12.0\n",
       "64129       13        2           4.0\n",
       "\n",
       "[18491 rows x 3 columns]"
      ]
     },
     "metadata": {},
     "execution_count": 59
    }
   ],
   "metadata": {
    "colab": {
     "base_uri": "https://localhost:8080/",
     "height": 419
    },
    "id": "yrL4cAFQyug3",
    "outputId": "d3e5bcde-3f16-45f4-9ac6-24984b3ce9c5"
   }
  },
  {
   "cell_type": "code",
   "execution_count": 60,
   "source": [
    "X = np.array([[\"United States\", 'Master’s degree', 15 ]])\r\n",
    "X"
   ],
   "outputs": [
    {
     "output_type": "execute_result",
     "data": {
      "text/plain": [
       "array([['United States', 'Master’s degree', '15']], dtype='<U15')"
      ]
     },
     "metadata": {},
     "execution_count": 60
    }
   ],
   "metadata": {
    "colab": {
     "base_uri": "https://localhost:8080/"
    },
    "id": "cEx4VtbZyukA",
    "outputId": "69c41f90-9f26-46ed-b29e-d76be04ee598"
   }
  },
  {
   "cell_type": "code",
   "execution_count": 61,
   "source": [
    "X[:, 0] = le_country.transform(X[:,0])\r\n",
    "X[:, 1] = le_education.transform(X[:,1])\r\n",
    "X = X.astype(float)\r\n",
    "X"
   ],
   "outputs": [
    {
     "output_type": "execute_result",
     "data": {
      "text/plain": [
       "array([[13.,  2., 15.]])"
      ]
     },
     "metadata": {},
     "execution_count": 61
    }
   ],
   "metadata": {
    "colab": {
     "base_uri": "https://localhost:8080/"
    },
    "id": "iBycPYrhyuoK",
    "outputId": "93ab2728-9408-4b8b-c6d3-a8094646a1ed"
   }
  },
  {
   "cell_type": "code",
   "execution_count": 62,
   "source": [
    "y_pred = regressor.predict(X)\r\n",
    "y_pred"
   ],
   "outputs": [
    {
     "output_type": "execute_result",
     "data": {
      "text/plain": [
       "array([139427.26315789])"
      ]
     },
     "metadata": {},
     "execution_count": 62
    }
   ],
   "metadata": {
    "colab": {
     "base_uri": "https://localhost:8080/"
    },
    "id": "vFpuuBUSyuuq",
    "outputId": "5b33fce9-7ef4-4c50-a2a3-3ca23eab3a61"
   }
  },
  {
   "cell_type": "code",
   "execution_count": 63,
   "source": [
    "import pickle"
   ],
   "outputs": [],
   "metadata": {
    "id": "SVomWkD1yuyK"
   }
  },
  {
   "cell_type": "code",
   "execution_count": 64,
   "source": [
    "data = {\"model\": regressor, \"le_country\": le_country, \"le_education\": le_education}\r\n",
    "with open('saved_steps.pkl', 'wb') as file:\r\n",
    "    pickle.dump(data, file)"
   ],
   "outputs": [],
   "metadata": {
    "id": "dz5tm9mRiEq-"
   }
  },
  {
   "cell_type": "code",
   "execution_count": 65,
   "source": [
    "with open('saved_steps.pkl', 'rb') as file:\r\n",
    "    data = pickle.load(file)\r\n",
    "\r\n",
    "regressor_loaded = data[\"model\"]\r\n",
    "le_country = data[\"le_country\"]\r\n",
    "le_education = data[\"le_education\"]"
   ],
   "outputs": [],
   "metadata": {
    "id": "eSQLaCcj3TMB"
   }
  },
  {
   "cell_type": "code",
   "execution_count": 66,
   "source": [
    "y_pred = regressor_loaded.predict(X)\r\n",
    "y_pred"
   ],
   "outputs": [
    {
     "output_type": "execute_result",
     "data": {
      "text/plain": [
       "array([139427.26315789])"
      ]
     },
     "metadata": {},
     "execution_count": 66
    }
   ],
   "metadata": {
    "colab": {
     "base_uri": "https://localhost:8080/"
    },
    "id": "K9C023GT3TIT",
    "outputId": "07adbc53-b5b6-4457-9e60-ddded2c190d8"
   }
  },
  {
   "cell_type": "code",
   "execution_count": null,
   "source": [],
   "outputs": [],
   "metadata": {
    "id": "phMXQD6s3TE6"
   }
  },
  {
   "cell_type": "code",
   "execution_count": null,
   "source": [],
   "outputs": [],
   "metadata": {
    "id": "MSVqtzTW3TBO"
   }
  }
 ],
 "metadata": {
  "colab": {
   "collapsed_sections": [],
   "name": "SalaryPrediction",
   "provenance": []
  },
  "kernelspec": {
   "name": "python3",
   "display_name": "Python 3.8.10 32-bit"
  },
  "language_info": {
   "codemirror_mode": {
    "name": "ipython",
    "version": 3
   },
   "file_extension": ".py",
   "mimetype": "text/x-python",
   "name": "python",
   "nbconvert_exporter": "python",
   "pygments_lexer": "ipython3",
   "version": "3.8.10"
  },
  "interpreter": {
   "hash": "7cf87445c26b1e9626b382eb846299811c44423ad269c8243122bce51722550d"
  }
 },
 "nbformat": 4,
 "nbformat_minor": 1
}